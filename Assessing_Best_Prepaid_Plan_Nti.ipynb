{
 "cells": [
  {
   "cell_type": "markdown",
   "metadata": {},
   "source": [
    "#  Best Prepaid Plan for Telecom Operator Megaline"
   ]
  },
  {
   "cell_type": "markdown",
   "metadata": {},
   "source": [
    "# Introduction\n",
    "I work as an analyst for the telecom operator Megaline.The company offers its clients two prepaid plans, Surf and Ultimate. The commercial department wants to know which of the plans brings in more revenue in order to adjust the advertising budget. Given  data on 500 Megaline clients for the year 2018, my job is to analyze clients' behavior and determine which prepaid plan brings in more revenue. "
   ]
  },
  {
   "cell_type": "markdown",
   "metadata": {
    "toc": true
   },
   "source": [
    "<h1>Table of Contents<span class=\"tocSkip\"></span></h1>\n",
    "<div class=\"toc\"><ul class=\"toc-item\"><li><span><a href=\"#Step-1:-Open-the-data-file-and-study-the-general-information-\" data-toc-modified-id=\"Step-1:-Open-the-data-file-and-study-the-general-information--1\">Step 1: Open the data file and study the general information <a class=\"anchor\" id=\"Step 1\"></a></a></span><ul class=\"toc-item\"><li><span><a href=\"#Interim-Conclusion\" data-toc-modified-id=\"Interim-Conclusion-1.1\">Interim Conclusion</a></span></li></ul></li><li><span><a href=\"#Step-2:-Preparing-the-data\" data-toc-modified-id=\"Step-2:-Preparing-the-data-2\">Step 2: Preparing the data</a></span><ul class=\"toc-item\"><li><span><a href=\"#Converting-the-data-to-the-necessary-types\" data-toc-modified-id=\"Converting-the-data-to-the-necessary-types-2.1\">Converting the data to the necessary types</a></span></li><li><span><a href=\"#Missing-values-and-errors-in-the-data,-new-columns-and-data-merging\" data-toc-modified-id=\"Missing-values-and-errors-in-the-data,-new-columns-and-data-merging-2.2\">Missing values and errors in the data, new columns and data merging</a></span></li><li><span><a href=\"#Interrim-conclusion\" data-toc-modified-id=\"Interrim-conclusion-2.3\">Interrim conclusion</a></span></li></ul></li><li><span><a href=\"#Step-3:-Analyze-the-data\" data-toc-modified-id=\"Step-3:-Analyze-the-data-3\">Step 3: Analyze the data</a></span><ul class=\"toc-item\"><li><span><a href=\"#Describing-the-customers'-behavior\" data-toc-modified-id=\"Describing-the-customers'-behavior-3.1\">Describing the customers' behavior</a></span></li><li><span><a href=\"#Ploting-histograms\" data-toc-modified-id=\"Ploting-histograms-3.2\">Ploting histograms</a></span></li><li><span><a href=\"#Interim-Conclusion\" data-toc-modified-id=\"Interim-Conclusion-3.3\">Interim Conclusion</a></span></li></ul></li><li><span><a href=\"#Step-4:-Testing-the-hypotheses\" data-toc-modified-id=\"Step-4:-Testing-the-hypotheses-4\">Step 4: Testing the hypotheses</a></span><ul class=\"toc-item\"><li><span><a href=\"#Hypothesis--test-1\" data-toc-modified-id=\"Hypothesis--test-1-4.1\">Hypothesis  test 1</a></span></li><li><span><a href=\"#Hypothesis--test-2\" data-toc-modified-id=\"Hypothesis--test-2-4.2\">Hypothesis  test 2</a></span></li></ul></li><li><span><a href=\"#Step-5:-Overall-conclusion\" data-toc-modified-id=\"Step-5:-Overall-conclusion-5\">Step 5: Overall conclusion</a></span></li></ul></div>"
   ]
  },
  {
   "cell_type": "markdown",
   "metadata": {},
   "source": [
    "## Step 1: Open the data file and study the general information <a class=\"anchor\" id=\"Step 1\"></a>\n",
    "Importing libraries and data"
   ]
  },
  {
   "cell_type": "code",
   "execution_count": 1,
   "metadata": {},
   "outputs": [],
   "source": [
    "import pandas as pd\n",
    "import numpy as np\n",
    "import matplotlib.pyplot as plt\n",
    "from IPython.display import display\n",
    "from functools import reduce\n",
    "%matplotlib inline\n",
    "\n",
    "\n",
    "df_calls=pd.read_csv(\"megaline_calls.csv\")\n",
    "df_messages=pd.read_csv(\"megaline_messages.csv\")\n",
    "df_internet=pd.read_csv(\"megaline_internet.csv\")\n",
    "df_users=pd.read_csv(\"megaline_users1.csv\")\n",
    "df_plans=pd.read_csv(\"megaline_plans.csv\")"
   ]
  },
  {
   "cell_type": "markdown",
   "metadata": {},
   "source": [
    "General information, and preview of first/last five rows, description of datasets"
   ]
  },
  {
   "cell_type": "code",
   "execution_count": 2,
   "metadata": {},
   "outputs": [
    {
     "name": "stdout",
     "output_type": "stream",
     "text": [
      "<class 'pandas.core.frame.DataFrame'>\n",
      "RangeIndex: 137735 entries, 0 to 137734\n",
      "Data columns (total 4 columns):\n",
      " #   Column     Non-Null Count   Dtype  \n",
      "---  ------     --------------   -----  \n",
      " 0   id         137735 non-null  object \n",
      " 1   user_id    137735 non-null  int64  \n",
      " 2   call_date  137735 non-null  object \n",
      " 3   duration   137735 non-null  float64\n",
      "dtypes: float64(1), int64(1), object(2)\n",
      "memory usage: 4.2+ MB\n"
     ]
    }
   ],
   "source": [
    "df_calls.info()"
   ]
  },
  {
   "cell_type": "code",
   "execution_count": 3,
   "metadata": {},
   "outputs": [
    {
     "data": {
      "text/html": [
       "<div>\n",
       "<style scoped>\n",
       "    .dataframe tbody tr th:only-of-type {\n",
       "        vertical-align: middle;\n",
       "    }\n",
       "\n",
       "    .dataframe tbody tr th {\n",
       "        vertical-align: top;\n",
       "    }\n",
       "\n",
       "    .dataframe thead th {\n",
       "        text-align: right;\n",
       "    }\n",
       "</style>\n",
       "<table border=\"1\" class=\"dataframe\">\n",
       "  <thead>\n",
       "    <tr style=\"text-align: right;\">\n",
       "      <th></th>\n",
       "      <th>id</th>\n",
       "      <th>user_id</th>\n",
       "      <th>call_date</th>\n",
       "      <th>duration</th>\n",
       "    </tr>\n",
       "  </thead>\n",
       "  <tbody>\n",
       "    <tr>\n",
       "      <th>0</th>\n",
       "      <td>1000_93</td>\n",
       "      <td>1000</td>\n",
       "      <td>2018-12-27</td>\n",
       "      <td>8.52</td>\n",
       "    </tr>\n",
       "    <tr>\n",
       "      <th>1</th>\n",
       "      <td>1000_145</td>\n",
       "      <td>1000</td>\n",
       "      <td>2018-12-27</td>\n",
       "      <td>13.66</td>\n",
       "    </tr>\n",
       "    <tr>\n",
       "      <th>2</th>\n",
       "      <td>1000_247</td>\n",
       "      <td>1000</td>\n",
       "      <td>2018-12-27</td>\n",
       "      <td>14.48</td>\n",
       "    </tr>\n",
       "    <tr>\n",
       "      <th>3</th>\n",
       "      <td>1000_309</td>\n",
       "      <td>1000</td>\n",
       "      <td>2018-12-28</td>\n",
       "      <td>5.76</td>\n",
       "    </tr>\n",
       "    <tr>\n",
       "      <th>4</th>\n",
       "      <td>1000_380</td>\n",
       "      <td>1000</td>\n",
       "      <td>2018-12-30</td>\n",
       "      <td>4.22</td>\n",
       "    </tr>\n",
       "  </tbody>\n",
       "</table>\n",
       "</div>"
      ],
      "text/plain": [
       "         id  user_id   call_date  duration\n",
       "0   1000_93     1000  2018-12-27      8.52\n",
       "1  1000_145     1000  2018-12-27     13.66\n",
       "2  1000_247     1000  2018-12-27     14.48\n",
       "3  1000_309     1000  2018-12-28      5.76\n",
       "4  1000_380     1000  2018-12-30      4.22"
      ]
     },
     "execution_count": 3,
     "metadata": {},
     "output_type": "execute_result"
    }
   ],
   "source": [
    "df_calls.head()"
   ]
  },
  {
   "cell_type": "code",
   "execution_count": 4,
   "metadata": {},
   "outputs": [
    {
     "data": {
      "text/html": [
       "<div>\n",
       "<style scoped>\n",
       "    .dataframe tbody tr th:only-of-type {\n",
       "        vertical-align: middle;\n",
       "    }\n",
       "\n",
       "    .dataframe tbody tr th {\n",
       "        vertical-align: top;\n",
       "    }\n",
       "\n",
       "    .dataframe thead th {\n",
       "        text-align: right;\n",
       "    }\n",
       "</style>\n",
       "<table border=\"1\" class=\"dataframe\">\n",
       "  <thead>\n",
       "    <tr style=\"text-align: right;\">\n",
       "      <th></th>\n",
       "      <th>user_id</th>\n",
       "      <th>duration</th>\n",
       "    </tr>\n",
       "  </thead>\n",
       "  <tbody>\n",
       "    <tr>\n",
       "      <th>count</th>\n",
       "      <td>137735.000000</td>\n",
       "      <td>137735.000000</td>\n",
       "    </tr>\n",
       "    <tr>\n",
       "      <th>mean</th>\n",
       "      <td>1247.658046</td>\n",
       "      <td>6.745927</td>\n",
       "    </tr>\n",
       "    <tr>\n",
       "      <th>std</th>\n",
       "      <td>139.416268</td>\n",
       "      <td>5.839241</td>\n",
       "    </tr>\n",
       "    <tr>\n",
       "      <th>min</th>\n",
       "      <td>1000.000000</td>\n",
       "      <td>0.000000</td>\n",
       "    </tr>\n",
       "    <tr>\n",
       "      <th>25%</th>\n",
       "      <td>1128.000000</td>\n",
       "      <td>1.290000</td>\n",
       "    </tr>\n",
       "    <tr>\n",
       "      <th>50%</th>\n",
       "      <td>1247.000000</td>\n",
       "      <td>5.980000</td>\n",
       "    </tr>\n",
       "    <tr>\n",
       "      <th>75%</th>\n",
       "      <td>1365.000000</td>\n",
       "      <td>10.690000</td>\n",
       "    </tr>\n",
       "    <tr>\n",
       "      <th>max</th>\n",
       "      <td>1499.000000</td>\n",
       "      <td>37.600000</td>\n",
       "    </tr>\n",
       "  </tbody>\n",
       "</table>\n",
       "</div>"
      ],
      "text/plain": [
       "             user_id       duration\n",
       "count  137735.000000  137735.000000\n",
       "mean     1247.658046       6.745927\n",
       "std       139.416268       5.839241\n",
       "min      1000.000000       0.000000\n",
       "25%      1128.000000       1.290000\n",
       "50%      1247.000000       5.980000\n",
       "75%      1365.000000      10.690000\n",
       "max      1499.000000      37.600000"
      ]
     },
     "execution_count": 4,
     "metadata": {},
     "output_type": "execute_result"
    }
   ],
   "source": [
    "df_calls.describe()"
   ]
  },
  {
   "cell_type": "code",
   "execution_count": 5,
   "metadata": {},
   "outputs": [
    {
     "name": "stdout",
     "output_type": "stream",
     "text": [
      "<class 'pandas.core.frame.DataFrame'>\n",
      "RangeIndex: 76051 entries, 0 to 76050\n",
      "Data columns (total 3 columns):\n",
      " #   Column        Non-Null Count  Dtype \n",
      "---  ------        --------------  ----- \n",
      " 0   id            76051 non-null  object\n",
      " 1   user_id       76051 non-null  int64 \n",
      " 2   message_date  76051 non-null  object\n",
      "dtypes: int64(1), object(2)\n",
      "memory usage: 1.7+ MB\n"
     ]
    }
   ],
   "source": [
    "df_messages.info()"
   ]
  },
  {
   "cell_type": "code",
   "execution_count": 6,
   "metadata": {},
   "outputs": [
    {
     "data": {
      "text/html": [
       "<div>\n",
       "<style scoped>\n",
       "    .dataframe tbody tr th:only-of-type {\n",
       "        vertical-align: middle;\n",
       "    }\n",
       "\n",
       "    .dataframe tbody tr th {\n",
       "        vertical-align: top;\n",
       "    }\n",
       "\n",
       "    .dataframe thead th {\n",
       "        text-align: right;\n",
       "    }\n",
       "</style>\n",
       "<table border=\"1\" class=\"dataframe\">\n",
       "  <thead>\n",
       "    <tr style=\"text-align: right;\">\n",
       "      <th></th>\n",
       "      <th>id</th>\n",
       "      <th>user_id</th>\n",
       "      <th>message_date</th>\n",
       "    </tr>\n",
       "  </thead>\n",
       "  <tbody>\n",
       "    <tr>\n",
       "      <th>0</th>\n",
       "      <td>1000_125</td>\n",
       "      <td>1000</td>\n",
       "      <td>2018-12-27</td>\n",
       "    </tr>\n",
       "    <tr>\n",
       "      <th>1</th>\n",
       "      <td>1000_160</td>\n",
       "      <td>1000</td>\n",
       "      <td>2018-12-31</td>\n",
       "    </tr>\n",
       "    <tr>\n",
       "      <th>2</th>\n",
       "      <td>1000_223</td>\n",
       "      <td>1000</td>\n",
       "      <td>2018-12-31</td>\n",
       "    </tr>\n",
       "    <tr>\n",
       "      <th>3</th>\n",
       "      <td>1000_251</td>\n",
       "      <td>1000</td>\n",
       "      <td>2018-12-27</td>\n",
       "    </tr>\n",
       "    <tr>\n",
       "      <th>4</th>\n",
       "      <td>1000_255</td>\n",
       "      <td>1000</td>\n",
       "      <td>2018-12-26</td>\n",
       "    </tr>\n",
       "  </tbody>\n",
       "</table>\n",
       "</div>"
      ],
      "text/plain": [
       "         id  user_id message_date\n",
       "0  1000_125     1000   2018-12-27\n",
       "1  1000_160     1000   2018-12-31\n",
       "2  1000_223     1000   2018-12-31\n",
       "3  1000_251     1000   2018-12-27\n",
       "4  1000_255     1000   2018-12-26"
      ]
     },
     "execution_count": 6,
     "metadata": {},
     "output_type": "execute_result"
    }
   ],
   "source": [
    "df_messages.head()"
   ]
  },
  {
   "cell_type": "code",
   "execution_count": 7,
   "metadata": {},
   "outputs": [
    {
     "name": "stdout",
     "output_type": "stream",
     "text": [
      "<class 'pandas.core.frame.DataFrame'>\n",
      "RangeIndex: 104825 entries, 0 to 104824\n",
      "Data columns (total 4 columns):\n",
      " #   Column        Non-Null Count   Dtype  \n",
      "---  ------        --------------   -----  \n",
      " 0   id            104825 non-null  object \n",
      " 1   user_id       104825 non-null  int64  \n",
      " 2   session_date  104825 non-null  object \n",
      " 3   mb_used       104825 non-null  float64\n",
      "dtypes: float64(1), int64(1), object(2)\n",
      "memory usage: 3.2+ MB\n"
     ]
    }
   ],
   "source": [
    "df_internet.info()"
   ]
  },
  {
   "cell_type": "code",
   "execution_count": 8,
   "metadata": {},
   "outputs": [
    {
     "data": {
      "text/html": [
       "<div>\n",
       "<style scoped>\n",
       "    .dataframe tbody tr th:only-of-type {\n",
       "        vertical-align: middle;\n",
       "    }\n",
       "\n",
       "    .dataframe tbody tr th {\n",
       "        vertical-align: top;\n",
       "    }\n",
       "\n",
       "    .dataframe thead th {\n",
       "        text-align: right;\n",
       "    }\n",
       "</style>\n",
       "<table border=\"1\" class=\"dataframe\">\n",
       "  <thead>\n",
       "    <tr style=\"text-align: right;\">\n",
       "      <th></th>\n",
       "      <th>id</th>\n",
       "      <th>user_id</th>\n",
       "      <th>session_date</th>\n",
       "      <th>mb_used</th>\n",
       "    </tr>\n",
       "  </thead>\n",
       "  <tbody>\n",
       "    <tr>\n",
       "      <th>104820</th>\n",
       "      <td>1499_215</td>\n",
       "      <td>1499</td>\n",
       "      <td>2018-10-20</td>\n",
       "      <td>218.06</td>\n",
       "    </tr>\n",
       "    <tr>\n",
       "      <th>104821</th>\n",
       "      <td>1499_216</td>\n",
       "      <td>1499</td>\n",
       "      <td>2018-12-30</td>\n",
       "      <td>304.72</td>\n",
       "    </tr>\n",
       "    <tr>\n",
       "      <th>104822</th>\n",
       "      <td>1499_217</td>\n",
       "      <td>1499</td>\n",
       "      <td>2018-09-22</td>\n",
       "      <td>292.75</td>\n",
       "    </tr>\n",
       "    <tr>\n",
       "      <th>104823</th>\n",
       "      <td>1499_218</td>\n",
       "      <td>1499</td>\n",
       "      <td>2018-12-07</td>\n",
       "      <td>0.00</td>\n",
       "    </tr>\n",
       "    <tr>\n",
       "      <th>104824</th>\n",
       "      <td>1499_219</td>\n",
       "      <td>1499</td>\n",
       "      <td>2018-12-24</td>\n",
       "      <td>758.31</td>\n",
       "    </tr>\n",
       "  </tbody>\n",
       "</table>\n",
       "</div>"
      ],
      "text/plain": [
       "              id  user_id session_date  mb_used\n",
       "104820  1499_215     1499   2018-10-20   218.06\n",
       "104821  1499_216     1499   2018-12-30   304.72\n",
       "104822  1499_217     1499   2018-09-22   292.75\n",
       "104823  1499_218     1499   2018-12-07     0.00\n",
       "104824  1499_219     1499   2018-12-24   758.31"
      ]
     },
     "execution_count": 8,
     "metadata": {},
     "output_type": "execute_result"
    }
   ],
   "source": [
    "df_internet.tail()"
   ]
  },
  {
   "cell_type": "code",
   "execution_count": 9,
   "metadata": {},
   "outputs": [
    {
     "data": {
      "text/html": [
       "<div>\n",
       "<style scoped>\n",
       "    .dataframe tbody tr th:only-of-type {\n",
       "        vertical-align: middle;\n",
       "    }\n",
       "\n",
       "    .dataframe tbody tr th {\n",
       "        vertical-align: top;\n",
       "    }\n",
       "\n",
       "    .dataframe thead th {\n",
       "        text-align: right;\n",
       "    }\n",
       "</style>\n",
       "<table border=\"1\" class=\"dataframe\">\n",
       "  <thead>\n",
       "    <tr style=\"text-align: right;\">\n",
       "      <th></th>\n",
       "      <th>user_id</th>\n",
       "      <th>mb_used</th>\n",
       "    </tr>\n",
       "  </thead>\n",
       "  <tbody>\n",
       "    <tr>\n",
       "      <th>count</th>\n",
       "      <td>104825.000000</td>\n",
       "      <td>104825.000000</td>\n",
       "    </tr>\n",
       "    <tr>\n",
       "      <th>mean</th>\n",
       "      <td>1242.496361</td>\n",
       "      <td>366.713701</td>\n",
       "    </tr>\n",
       "    <tr>\n",
       "      <th>std</th>\n",
       "      <td>142.053913</td>\n",
       "      <td>277.170542</td>\n",
       "    </tr>\n",
       "    <tr>\n",
       "      <th>min</th>\n",
       "      <td>1000.000000</td>\n",
       "      <td>0.000000</td>\n",
       "    </tr>\n",
       "    <tr>\n",
       "      <th>25%</th>\n",
       "      <td>1122.000000</td>\n",
       "      <td>136.080000</td>\n",
       "    </tr>\n",
       "    <tr>\n",
       "      <th>50%</th>\n",
       "      <td>1236.000000</td>\n",
       "      <td>343.980000</td>\n",
       "    </tr>\n",
       "    <tr>\n",
       "      <th>75%</th>\n",
       "      <td>1367.000000</td>\n",
       "      <td>554.610000</td>\n",
       "    </tr>\n",
       "    <tr>\n",
       "      <th>max</th>\n",
       "      <td>1499.000000</td>\n",
       "      <td>1693.470000</td>\n",
       "    </tr>\n",
       "  </tbody>\n",
       "</table>\n",
       "</div>"
      ],
      "text/plain": [
       "             user_id        mb_used\n",
       "count  104825.000000  104825.000000\n",
       "mean     1242.496361     366.713701\n",
       "std       142.053913     277.170542\n",
       "min      1000.000000       0.000000\n",
       "25%      1122.000000     136.080000\n",
       "50%      1236.000000     343.980000\n",
       "75%      1367.000000     554.610000\n",
       "max      1499.000000    1693.470000"
      ]
     },
     "execution_count": 9,
     "metadata": {},
     "output_type": "execute_result"
    }
   ],
   "source": [
    "df_internet.describe()"
   ]
  },
  {
   "cell_type": "code",
   "execution_count": 10,
   "metadata": {},
   "outputs": [
    {
     "name": "stdout",
     "output_type": "stream",
     "text": [
      "<class 'pandas.core.frame.DataFrame'>\n",
      "RangeIndex: 500 entries, 0 to 499\n",
      "Data columns (total 8 columns):\n",
      " #   Column      Non-Null Count  Dtype \n",
      "---  ------      --------------  ----- \n",
      " 0   user_id     500 non-null    int64 \n",
      " 1   first_name  500 non-null    object\n",
      " 2   last_name   500 non-null    object\n",
      " 3   age         500 non-null    int64 \n",
      " 4   city        500 non-null    object\n",
      " 5   reg_date    500 non-null    object\n",
      " 6   tariff      500 non-null    object\n",
      " 7   churn_date  34 non-null     object\n",
      "dtypes: int64(2), object(6)\n",
      "memory usage: 31.4+ KB\n"
     ]
    }
   ],
   "source": [
    "df_users.info()"
   ]
  },
  {
   "cell_type": "code",
   "execution_count": 11,
   "metadata": {},
   "outputs": [
    {
     "data": {
      "text/html": [
       "<div>\n",
       "<style scoped>\n",
       "    .dataframe tbody tr th:only-of-type {\n",
       "        vertical-align: middle;\n",
       "    }\n",
       "\n",
       "    .dataframe tbody tr th {\n",
       "        vertical-align: top;\n",
       "    }\n",
       "\n",
       "    .dataframe thead th {\n",
       "        text-align: right;\n",
       "    }\n",
       "</style>\n",
       "<table border=\"1\" class=\"dataframe\">\n",
       "  <thead>\n",
       "    <tr style=\"text-align: right;\">\n",
       "      <th></th>\n",
       "      <th>user_id</th>\n",
       "      <th>first_name</th>\n",
       "      <th>last_name</th>\n",
       "      <th>age</th>\n",
       "      <th>city</th>\n",
       "      <th>reg_date</th>\n",
       "      <th>tariff</th>\n",
       "      <th>churn_date</th>\n",
       "    </tr>\n",
       "  </thead>\n",
       "  <tbody>\n",
       "    <tr>\n",
       "      <th>0</th>\n",
       "      <td>1000</td>\n",
       "      <td>Anamaria</td>\n",
       "      <td>Bauer</td>\n",
       "      <td>45</td>\n",
       "      <td>Atlanta-Sandy Springs-Roswell, GA MSA</td>\n",
       "      <td>2018-12-24</td>\n",
       "      <td>ultimate</td>\n",
       "      <td>NaN</td>\n",
       "    </tr>\n",
       "    <tr>\n",
       "      <th>1</th>\n",
       "      <td>1001</td>\n",
       "      <td>Mickey</td>\n",
       "      <td>Wilkerson</td>\n",
       "      <td>28</td>\n",
       "      <td>Seattle-Tacoma-Bellevue, WA MSA</td>\n",
       "      <td>2018-08-13</td>\n",
       "      <td>surf</td>\n",
       "      <td>NaN</td>\n",
       "    </tr>\n",
       "    <tr>\n",
       "      <th>2</th>\n",
       "      <td>1002</td>\n",
       "      <td>Carlee</td>\n",
       "      <td>Hoffman</td>\n",
       "      <td>36</td>\n",
       "      <td>Las Vegas-Henderson-Paradise, NV MSA</td>\n",
       "      <td>2018-10-21</td>\n",
       "      <td>surf</td>\n",
       "      <td>NaN</td>\n",
       "    </tr>\n",
       "    <tr>\n",
       "      <th>3</th>\n",
       "      <td>1003</td>\n",
       "      <td>Reynaldo</td>\n",
       "      <td>Jenkins</td>\n",
       "      <td>52</td>\n",
       "      <td>Tulsa, OK MSA</td>\n",
       "      <td>2018-01-28</td>\n",
       "      <td>surf</td>\n",
       "      <td>NaN</td>\n",
       "    </tr>\n",
       "    <tr>\n",
       "      <th>4</th>\n",
       "      <td>1004</td>\n",
       "      <td>Leonila</td>\n",
       "      <td>Thompson</td>\n",
       "      <td>40</td>\n",
       "      <td>Seattle-Tacoma-Bellevue, WA MSA</td>\n",
       "      <td>2018-05-23</td>\n",
       "      <td>surf</td>\n",
       "      <td>NaN</td>\n",
       "    </tr>\n",
       "  </tbody>\n",
       "</table>\n",
       "</div>"
      ],
      "text/plain": [
       "   user_id first_name  last_name  age                                   city  \\\n",
       "0     1000   Anamaria      Bauer   45  Atlanta-Sandy Springs-Roswell, GA MSA   \n",
       "1     1001     Mickey  Wilkerson   28        Seattle-Tacoma-Bellevue, WA MSA   \n",
       "2     1002     Carlee    Hoffman   36   Las Vegas-Henderson-Paradise, NV MSA   \n",
       "3     1003   Reynaldo    Jenkins   52                          Tulsa, OK MSA   \n",
       "4     1004    Leonila   Thompson   40        Seattle-Tacoma-Bellevue, WA MSA   \n",
       "\n",
       "     reg_date    tariff churn_date  \n",
       "0  2018-12-24  ultimate        NaN  \n",
       "1  2018-08-13      surf        NaN  \n",
       "2  2018-10-21      surf        NaN  \n",
       "3  2018-01-28      surf        NaN  \n",
       "4  2018-05-23      surf        NaN  "
      ]
     },
     "execution_count": 11,
     "metadata": {},
     "output_type": "execute_result"
    }
   ],
   "source": [
    "df_users.head()"
   ]
  },
  {
   "cell_type": "markdown",
   "metadata": {},
   "source": [
    "Are the users evenly selected?"
   ]
  },
  {
   "cell_type": "code",
   "execution_count": 12,
   "metadata": {},
   "outputs": [
    {
     "data": {
      "text/plain": [
       "surf        339\n",
       "ultimate    161\n",
       "Name: tariff, dtype: int64"
      ]
     },
     "execution_count": 12,
     "metadata": {},
     "output_type": "execute_result"
    }
   ],
   "source": [
    "df_users[\"tariff\"].value_counts()"
   ]
  },
  {
   "cell_type": "markdown",
   "metadata": {},
   "source": [
    "Majority of the clients selected patronise the surf plan"
   ]
  },
  {
   "cell_type": "code",
   "execution_count": 13,
   "metadata": {},
   "outputs": [
    {
     "name": "stdout",
     "output_type": "stream",
     "text": [
      "<class 'pandas.core.frame.DataFrame'>\n",
      "RangeIndex: 2 entries, 0 to 1\n",
      "Data columns (total 8 columns):\n",
      " #   Column                 Non-Null Count  Dtype  \n",
      "---  ------                 --------------  -----  \n",
      " 0   messages_included      2 non-null      int64  \n",
      " 1   mb_per_month_included  2 non-null      int64  \n",
      " 2   minutes_included       2 non-null      int64  \n",
      " 3   usd_monthly_pay        2 non-null      int64  \n",
      " 4   usd_per_gb             2 non-null      int64  \n",
      " 5   usd_per_message        2 non-null      float64\n",
      " 6   usd_per_minute         2 non-null      float64\n",
      " 7   plan_name              2 non-null      object \n",
      "dtypes: float64(2), int64(5), object(1)\n",
      "memory usage: 256.0+ bytes\n"
     ]
    }
   ],
   "source": [
    "df_plans.info()"
   ]
  },
  {
   "cell_type": "code",
   "execution_count": 14,
   "metadata": {},
   "outputs": [
    {
     "data": {
      "text/html": [
       "<div>\n",
       "<style scoped>\n",
       "    .dataframe tbody tr th:only-of-type {\n",
       "        vertical-align: middle;\n",
       "    }\n",
       "\n",
       "    .dataframe tbody tr th {\n",
       "        vertical-align: top;\n",
       "    }\n",
       "\n",
       "    .dataframe thead th {\n",
       "        text-align: right;\n",
       "    }\n",
       "</style>\n",
       "<table border=\"1\" class=\"dataframe\">\n",
       "  <thead>\n",
       "    <tr style=\"text-align: right;\">\n",
       "      <th></th>\n",
       "      <th>messages_included</th>\n",
       "      <th>mb_per_month_included</th>\n",
       "      <th>minutes_included</th>\n",
       "      <th>usd_monthly_pay</th>\n",
       "      <th>usd_per_gb</th>\n",
       "      <th>usd_per_message</th>\n",
       "      <th>usd_per_minute</th>\n",
       "      <th>plan_name</th>\n",
       "    </tr>\n",
       "  </thead>\n",
       "  <tbody>\n",
       "    <tr>\n",
       "      <th>0</th>\n",
       "      <td>50</td>\n",
       "      <td>15360</td>\n",
       "      <td>500</td>\n",
       "      <td>20</td>\n",
       "      <td>10</td>\n",
       "      <td>0.03</td>\n",
       "      <td>0.03</td>\n",
       "      <td>surf</td>\n",
       "    </tr>\n",
       "    <tr>\n",
       "      <th>1</th>\n",
       "      <td>1000</td>\n",
       "      <td>30720</td>\n",
       "      <td>3000</td>\n",
       "      <td>70</td>\n",
       "      <td>7</td>\n",
       "      <td>0.01</td>\n",
       "      <td>0.01</td>\n",
       "      <td>ultimate</td>\n",
       "    </tr>\n",
       "  </tbody>\n",
       "</table>\n",
       "</div>"
      ],
      "text/plain": [
       "   messages_included  mb_per_month_included  minutes_included  \\\n",
       "0                 50                  15360               500   \n",
       "1               1000                  30720              3000   \n",
       "\n",
       "   usd_monthly_pay  usd_per_gb  usd_per_message  usd_per_minute plan_name  \n",
       "0               20          10             0.03            0.03      surf  \n",
       "1               70           7             0.01            0.01  ultimate  "
      ]
     },
     "execution_count": 14,
     "metadata": {},
     "output_type": "execute_result"
    }
   ],
   "source": [
    "df_plans"
   ]
  },
  {
   "cell_type": "markdown",
   "metadata": {},
   "source": [
    "\n"
   ]
  },
  {
   "cell_type": "markdown",
   "metadata": {},
   "source": [
    "### Interim Conclusion\n",
    "Considering the DataFrames containing `id` columns, the id data type is object instead of integer. This is due to the underscores in-between the digits. Also, all DataFrames with dates are objects but must be in datetime format. \n",
    "Aside these, the general information of the datasets looks fine. \n",
    "The general information shows only `churn_date` column have missing values in datasets aside the presence of zero(s) in the data.\n",
    "In 2018, the highest, average, and lowest call duration by a client of Megaline was about 38, 7,and 0 minutes respectively. \n",
    "On Average, a client used about 367 megabytes(MB) of data in 2018. The maximum data used by a client was about 1694 MB and the lowest was about 0 MB. \n"
   ]
  },
  {
   "cell_type": "markdown",
   "metadata": {},
   "source": [
    "## Step 2: Preparing the data\n",
    "### Converting the data to the necessary types"
   ]
  },
  {
   "cell_type": "markdown",
   "metadata": {},
   "source": [
    "`id columns:`\n",
    "\n",
    "One obvious observation from the DataFrames' `id` columns is that, the digits before the underscore is the same\n",
    "as the corresponding `user_id` column value. This means the digits after the underscore are unique. Converting to integers would delete the underscore in the middle and maintain the digits. However, I want to also do away with the `user_id` digits attached. Therefore, before I convert `id` data type to integer, I would retrieve this unique numbers."
   ]
  },
  {
   "cell_type": "code",
   "execution_count": 15,
   "metadata": {},
   "outputs": [
    {
     "data": {
      "text/html": [
       "<div>\n",
       "<style scoped>\n",
       "    .dataframe tbody tr th:only-of-type {\n",
       "        vertical-align: middle;\n",
       "    }\n",
       "\n",
       "    .dataframe tbody tr th {\n",
       "        vertical-align: top;\n",
       "    }\n",
       "\n",
       "    .dataframe thead th {\n",
       "        text-align: right;\n",
       "    }\n",
       "</style>\n",
       "<table border=\"1\" class=\"dataframe\">\n",
       "  <thead>\n",
       "    <tr style=\"text-align: right;\">\n",
       "      <th></th>\n",
       "      <th>id</th>\n",
       "      <th>user_id</th>\n",
       "      <th>session_date</th>\n",
       "      <th>mb_used</th>\n",
       "    </tr>\n",
       "  </thead>\n",
       "  <tbody>\n",
       "    <tr>\n",
       "      <th>0</th>\n",
       "      <td>13</td>\n",
       "      <td>1000</td>\n",
       "      <td>2018-12-29</td>\n",
       "      <td>89.86</td>\n",
       "    </tr>\n",
       "    <tr>\n",
       "      <th>1</th>\n",
       "      <td>204</td>\n",
       "      <td>1000</td>\n",
       "      <td>2018-12-31</td>\n",
       "      <td>0.00</td>\n",
       "    </tr>\n",
       "    <tr>\n",
       "      <th>2</th>\n",
       "      <td>379</td>\n",
       "      <td>1000</td>\n",
       "      <td>2018-12-28</td>\n",
       "      <td>660.40</td>\n",
       "    </tr>\n",
       "    <tr>\n",
       "      <th>3</th>\n",
       "      <td>413</td>\n",
       "      <td>1000</td>\n",
       "      <td>2018-12-26</td>\n",
       "      <td>270.99</td>\n",
       "    </tr>\n",
       "    <tr>\n",
       "      <th>4</th>\n",
       "      <td>442</td>\n",
       "      <td>1000</td>\n",
       "      <td>2018-12-27</td>\n",
       "      <td>880.22</td>\n",
       "    </tr>\n",
       "  </tbody>\n",
       "</table>\n",
       "</div>"
      ],
      "text/plain": [
       "    id  user_id session_date  mb_used\n",
       "0   13     1000   2018-12-29    89.86\n",
       "1  204     1000   2018-12-31     0.00\n",
       "2  379     1000   2018-12-28   660.40\n",
       "3  413     1000   2018-12-26   270.99\n",
       "4  442     1000   2018-12-27   880.22"
      ]
     },
     "execution_count": 15,
     "metadata": {},
     "output_type": "execute_result"
    }
   ],
   "source": [
    "import re\n",
    "retrieve_id = np.vectorize(lambda x: re.sub('.*_',  '' ,   x))\n",
    "df_calls[\"id\"] = retrieve_id(df_calls[\"id\"])\n",
    "df_messages[\"id\"] = retrieve_id(df_messages[\"id\"])\n",
    "df_internet[\"id\"] = retrieve_id(df_internet[\"id\"])\n",
    "df_internet.head()"
   ]
  },
  {
   "cell_type": "markdown",
   "metadata": {},
   "source": [
    "Converting `id` columns to integer"
   ]
  },
  {
   "cell_type": "code",
   "execution_count": 16,
   "metadata": {},
   "outputs": [
    {
     "name": "stdout",
     "output_type": "stream",
     "text": [
      "<class 'pandas.core.frame.DataFrame'>\n",
      "RangeIndex: 104825 entries, 0 to 104824\n",
      "Data columns (total 4 columns):\n",
      " #   Column        Non-Null Count   Dtype  \n",
      "---  ------        --------------   -----  \n",
      " 0   id            104825 non-null  int64  \n",
      " 1   user_id       104825 non-null  int64  \n",
      " 2   session_date  104825 non-null  object \n",
      " 3   mb_used       104825 non-null  float64\n",
      "dtypes: float64(1), int64(2), object(1)\n",
      "memory usage: 3.2+ MB\n"
     ]
    }
   ],
   "source": [
    "df_calls[\"id\"] = df_calls[\"id\"].astype(\"int64\")\n",
    "df_messages[\"id\"] = df_messages[\"id\"].astype(\"int64\")\n",
    "df_internet[\"id\"] = df_internet[\"id\"].astype(\"int64\")\n",
    "# df_calls.info()\n",
    "# df_messages.info()\n",
    "df_internet.info()"
   ]
  },
  {
   "cell_type": "markdown",
   "metadata": {},
   "source": [
    "`Date columns:`\n",
    "\n",
    "Coverting date columns in dataset to datetime formates"
   ]
  },
  {
   "cell_type": "code",
   "execution_count": 17,
   "metadata": {},
   "outputs": [
    {
     "name": "stdout",
     "output_type": "stream",
     "text": [
      "<class 'pandas.core.frame.DataFrame'>\n",
      "RangeIndex: 500 entries, 0 to 499\n",
      "Data columns (total 8 columns):\n",
      " #   Column      Non-Null Count  Dtype         \n",
      "---  ------      --------------  -----         \n",
      " 0   user_id     500 non-null    int64         \n",
      " 1   first_name  500 non-null    object        \n",
      " 2   last_name   500 non-null    object        \n",
      " 3   age         500 non-null    int64         \n",
      " 4   city        500 non-null    object        \n",
      " 5   reg_date    500 non-null    datetime64[ns]\n",
      " 6   tariff      500 non-null    object        \n",
      " 7   churn_date  500 non-null    datetime64[ns]\n",
      "dtypes: datetime64[ns](2), int64(2), object(4)\n",
      "memory usage: 31.4+ KB\n"
     ]
    }
   ],
   "source": [
    "df_calls[\"call_date\"] = pd.to_datetime(df_calls[\"call_date\"], format= \"%Y-%m-%d\")\n",
    "# df_calls.info()\n",
    "df_messages[\"message_date\"] = pd.to_datetime(df_messages[\"message_date\"],format= \"%Y-%m-%d\")\n",
    "#df_messages.info()\n",
    "df_internet[\"session_date\"] = pd.to_datetime(df_internet[\"session_date\"],format= \"%Y-%m-%d\")\n",
    "#df_internet.info()\n",
    "df_users[\"reg_date\"] =pd.to_datetime(df_users[\"reg_date\"], format= \"%Y-%m-%d\")\n",
    "df_users[\"churn_date\"] =pd.to_datetime(df_users[\"reg_date\"], format= \"%Y-%m-%d\")\n",
    "df_users.info()"
   ]
  },
  {
   "cell_type": "markdown",
   "metadata": {},
   "source": [
    "Data converted to necessary data types"
   ]
  },
  {
   "cell_type": "markdown",
   "metadata": {},
   "source": [
    "### Missing values and errors in the data, new columns and data merging\n",
    "\n",
    "**Missing values and errors in the data**"
   ]
  },
  {
   "cell_type": "markdown",
   "metadata": {},
   "source": [
    "The calls description shows there are call(s) that lasted zero minute. How many are they?"
   ]
  },
  {
   "cell_type": "code",
   "execution_count": 18,
   "metadata": {},
   "outputs": [
    {
     "data": {
      "text/plain": [
       "0.00     26834\n",
       "8.37       102\n",
       "4.02       102\n",
       "3.91       101\n",
       "7.61       100\n",
       "         ...  \n",
       "25.53        1\n",
       "29.34        1\n",
       "26.05        1\n",
       "36.24        1\n",
       "27.16        1\n",
       "Name: duration, Length: 2802, dtype: int64"
      ]
     },
     "execution_count": 18,
     "metadata": {},
     "output_type": "execute_result"
    }
   ],
   "source": [
    "df_calls[\"duration\"].value_counts()"
   ]
  },
  {
   "cell_type": "markdown",
   "metadata": {},
   "source": [
    "This could be an error. It is also possible they are missed calls.\n",
    "What is the percentage of calls that lasted 0 minutes?"
   ]
  },
  {
   "cell_type": "code",
   "execution_count": 19,
   "metadata": {},
   "outputs": [
    {
     "data": {
      "text/plain": [
       "0.195"
      ]
     },
     "execution_count": 19,
     "metadata": {},
     "output_type": "execute_result"
    }
   ],
   "source": [
    "round(len(df_calls[df_calls[\"duration\"]== 0.00])/len(df_calls),3)"
   ]
  },
  {
   "cell_type": "markdown",
   "metadata": {},
   "source": [
    "About 20% of calls have a duration of 0.0 minutes.  This is very significant; it would affect the analysis if\n",
    "eliminated. \n",
    "Missing values in the \"churn_date\" column are expected as this only contains the date the user stopped using the service. Hence, missing values in that column will not be dealt with."
   ]
  },
  {
   "cell_type": "markdown",
   "metadata": {},
   "source": [
    "**New columns and data merging**\n",
    "\n",
    "Retrieving month in date columns"
   ]
  },
  {
   "cell_type": "code",
   "execution_count": 20,
   "metadata": {},
   "outputs": [],
   "source": [
    "df_calls[\"month\"]=df_calls[\"call_date\"].dt.month\n",
    "df_messages[\"month\"]=df_messages[\"message_date\"].dt.month\n",
    "df_internet[\"month\"]=df_internet[\"session_date\"].dt.month\n",
    "df_users[\"month\"]=df_users[\"reg_date\"].dt.month"
   ]
  },
  {
   "cell_type": "markdown",
   "metadata": {},
   "source": [
    "Rounding up call durations from seconds to minutes."
   ]
  },
  {
   "cell_type": "code",
   "execution_count": 21,
   "metadata": {},
   "outputs": [],
   "source": [
    "df_calls[\"duration\"]=np.ceil(df_calls[\"duration\"])"
   ]
  },
  {
   "cell_type": "markdown",
   "metadata": {},
   "source": [
    "Number of calls made and minutes used per month"
   ]
  },
  {
   "cell_type": "code",
   "execution_count": 22,
   "metadata": {},
   "outputs": [
    {
     "data": {
      "text/html": [
       "<div>\n",
       "<style scoped>\n",
       "    .dataframe tbody tr th:only-of-type {\n",
       "        vertical-align: middle;\n",
       "    }\n",
       "\n",
       "    .dataframe tbody tr th {\n",
       "        vertical-align: top;\n",
       "    }\n",
       "\n",
       "    .dataframe thead th {\n",
       "        text-align: right;\n",
       "    }\n",
       "</style>\n",
       "<table border=\"1\" class=\"dataframe\">\n",
       "  <thead>\n",
       "    <tr style=\"text-align: right;\">\n",
       "      <th></th>\n",
       "      <th>user_id</th>\n",
       "      <th>month</th>\n",
       "      <th>total_duration</th>\n",
       "      <th>total_calls</th>\n",
       "    </tr>\n",
       "  </thead>\n",
       "  <tbody>\n",
       "    <tr>\n",
       "      <th>0</th>\n",
       "      <td>1000</td>\n",
       "      <td>12</td>\n",
       "      <td>124.0</td>\n",
       "      <td>16</td>\n",
       "    </tr>\n",
       "    <tr>\n",
       "      <th>1</th>\n",
       "      <td>1001</td>\n",
       "      <td>8</td>\n",
       "      <td>182.0</td>\n",
       "      <td>27</td>\n",
       "    </tr>\n",
       "    <tr>\n",
       "      <th>2</th>\n",
       "      <td>1001</td>\n",
       "      <td>9</td>\n",
       "      <td>315.0</td>\n",
       "      <td>49</td>\n",
       "    </tr>\n",
       "    <tr>\n",
       "      <th>3</th>\n",
       "      <td>1001</td>\n",
       "      <td>10</td>\n",
       "      <td>393.0</td>\n",
       "      <td>65</td>\n",
       "    </tr>\n",
       "    <tr>\n",
       "      <th>4</th>\n",
       "      <td>1001</td>\n",
       "      <td>11</td>\n",
       "      <td>426.0</td>\n",
       "      <td>64</td>\n",
       "    </tr>\n",
       "  </tbody>\n",
       "</table>\n",
       "</div>"
      ],
      "text/plain": [
       "   user_id  month  total_duration  total_calls\n",
       "0     1000     12           124.0           16\n",
       "1     1001      8           182.0           27\n",
       "2     1001      9           315.0           49\n",
       "3     1001     10           393.0           65\n",
       "4     1001     11           426.0           64"
      ]
     },
     "execution_count": 22,
     "metadata": {},
     "output_type": "execute_result"
    }
   ],
   "source": [
    "monthly_calls_and_minutes= df_calls.groupby([\"user_id\",\"month\"]).agg({\"duration\": \"sum\", \"id\":\"count\"}).reset_index()\n",
    "monthly_calls_and_minutes.columns=[\"user_id\",\"month\",\"total_duration\",\"total_calls\"]\n",
    "monthly_calls_and_minutes.head()"
   ]
  },
  {
   "cell_type": "markdown",
   "metadata": {},
   "source": [
    "The number of text messages sent per month"
   ]
  },
  {
   "cell_type": "code",
   "execution_count": 23,
   "metadata": {},
   "outputs": [
    {
     "data": {
      "text/html": [
       "<div>\n",
       "<style scoped>\n",
       "    .dataframe tbody tr th:only-of-type {\n",
       "        vertical-align: middle;\n",
       "    }\n",
       "\n",
       "    .dataframe tbody tr th {\n",
       "        vertical-align: top;\n",
       "    }\n",
       "\n",
       "    .dataframe thead th {\n",
       "        text-align: right;\n",
       "    }\n",
       "</style>\n",
       "<table border=\"1\" class=\"dataframe\">\n",
       "  <thead>\n",
       "    <tr style=\"text-align: right;\">\n",
       "      <th></th>\n",
       "      <th>user_id</th>\n",
       "      <th>month</th>\n",
       "      <th>total_messages</th>\n",
       "    </tr>\n",
       "  </thead>\n",
       "  <tbody>\n",
       "    <tr>\n",
       "      <th>0</th>\n",
       "      <td>1000</td>\n",
       "      <td>12</td>\n",
       "      <td>11</td>\n",
       "    </tr>\n",
       "    <tr>\n",
       "      <th>1</th>\n",
       "      <td>1001</td>\n",
       "      <td>8</td>\n",
       "      <td>30</td>\n",
       "    </tr>\n",
       "    <tr>\n",
       "      <th>2</th>\n",
       "      <td>1001</td>\n",
       "      <td>9</td>\n",
       "      <td>44</td>\n",
       "    </tr>\n",
       "    <tr>\n",
       "      <th>3</th>\n",
       "      <td>1001</td>\n",
       "      <td>10</td>\n",
       "      <td>53</td>\n",
       "    </tr>\n",
       "    <tr>\n",
       "      <th>4</th>\n",
       "      <td>1001</td>\n",
       "      <td>11</td>\n",
       "      <td>36</td>\n",
       "    </tr>\n",
       "  </tbody>\n",
       "</table>\n",
       "</div>"
      ],
      "text/plain": [
       "   user_id  month  total_messages\n",
       "0     1000     12              11\n",
       "1     1001      8              30\n",
       "2     1001      9              44\n",
       "3     1001     10              53\n",
       "4     1001     11              36"
      ]
     },
     "execution_count": 23,
     "metadata": {},
     "output_type": "execute_result"
    }
   ],
   "source": [
    "messages_per_month= df_messages.groupby([\"user_id\",\"month\"])[\"id\"].count().reset_index()\n",
    "messages_per_month.rename({\"id\":\"total_messages\"},axis=1,inplace=True)\n",
    "messages_per_month.head()"
   ]
  },
  {
   "cell_type": "markdown",
   "metadata": {},
   "source": [
    "The volume of data per month"
   ]
  },
  {
   "cell_type": "code",
   "execution_count": 24,
   "metadata": {},
   "outputs": [
    {
     "data": {
      "text/html": [
       "<div>\n",
       "<style scoped>\n",
       "    .dataframe tbody tr th:only-of-type {\n",
       "        vertical-align: middle;\n",
       "    }\n",
       "\n",
       "    .dataframe tbody tr th {\n",
       "        vertical-align: top;\n",
       "    }\n",
       "\n",
       "    .dataframe thead th {\n",
       "        text-align: right;\n",
       "    }\n",
       "</style>\n",
       "<table border=\"1\" class=\"dataframe\">\n",
       "  <thead>\n",
       "    <tr style=\"text-align: right;\">\n",
       "      <th></th>\n",
       "      <th>user_id</th>\n",
       "      <th>month</th>\n",
       "      <th>total_data_mb</th>\n",
       "    </tr>\n",
       "  </thead>\n",
       "  <tbody>\n",
       "    <tr>\n",
       "      <th>0</th>\n",
       "      <td>1000</td>\n",
       "      <td>12</td>\n",
       "      <td>1901.47</td>\n",
       "    </tr>\n",
       "    <tr>\n",
       "      <th>1</th>\n",
       "      <td>1001</td>\n",
       "      <td>8</td>\n",
       "      <td>6919.15</td>\n",
       "    </tr>\n",
       "    <tr>\n",
       "      <th>2</th>\n",
       "      <td>1001</td>\n",
       "      <td>9</td>\n",
       "      <td>13314.82</td>\n",
       "    </tr>\n",
       "    <tr>\n",
       "      <th>3</th>\n",
       "      <td>1001</td>\n",
       "      <td>10</td>\n",
       "      <td>22330.49</td>\n",
       "    </tr>\n",
       "    <tr>\n",
       "      <th>4</th>\n",
       "      <td>1001</td>\n",
       "      <td>11</td>\n",
       "      <td>18504.30</td>\n",
       "    </tr>\n",
       "  </tbody>\n",
       "</table>\n",
       "</div>"
      ],
      "text/plain": [
       "   user_id  month  total_data_mb\n",
       "0     1000     12        1901.47\n",
       "1     1001      8        6919.15\n",
       "2     1001      9       13314.82\n",
       "3     1001     10       22330.49\n",
       "4     1001     11       18504.30"
      ]
     },
     "execution_count": 24,
     "metadata": {},
     "output_type": "execute_result"
    }
   ],
   "source": [
    "data_per_month = df_internet.groupby([\"user_id\",\"month\"])[\"mb_used\"].sum().reset_index()\n",
    "data_per_month.rename({\"mb_used\":\"total_data_mb\"},axis=1,inplace=True)\n",
    "data_per_month.head()"
   ]
  },
  {
   "cell_type": "markdown",
   "metadata": {},
   "source": [
    "Converting monthy data (in MB) to gigabytes(GB) to help round up given 1 GB = 1024 megabytes\n",
    " "
   ]
  },
  {
   "cell_type": "code",
   "execution_count": 25,
   "metadata": {},
   "outputs": [
    {
     "data": {
      "text/html": [
       "<div>\n",
       "<style scoped>\n",
       "    .dataframe tbody tr th:only-of-type {\n",
       "        vertical-align: middle;\n",
       "    }\n",
       "\n",
       "    .dataframe tbody tr th {\n",
       "        vertical-align: top;\n",
       "    }\n",
       "\n",
       "    .dataframe thead th {\n",
       "        text-align: right;\n",
       "    }\n",
       "</style>\n",
       "<table border=\"1\" class=\"dataframe\">\n",
       "  <thead>\n",
       "    <tr style=\"text-align: right;\">\n",
       "      <th></th>\n",
       "      <th>user_id</th>\n",
       "      <th>month</th>\n",
       "      <th>total_data_mb</th>\n",
       "      <th>total_data_gb</th>\n",
       "    </tr>\n",
       "  </thead>\n",
       "  <tbody>\n",
       "    <tr>\n",
       "      <th>0</th>\n",
       "      <td>1000</td>\n",
       "      <td>12</td>\n",
       "      <td>1901.47</td>\n",
       "      <td>2.0</td>\n",
       "    </tr>\n",
       "    <tr>\n",
       "      <th>1</th>\n",
       "      <td>1001</td>\n",
       "      <td>8</td>\n",
       "      <td>6919.15</td>\n",
       "      <td>7.0</td>\n",
       "    </tr>\n",
       "    <tr>\n",
       "      <th>2</th>\n",
       "      <td>1001</td>\n",
       "      <td>9</td>\n",
       "      <td>13314.82</td>\n",
       "      <td>14.0</td>\n",
       "    </tr>\n",
       "    <tr>\n",
       "      <th>3</th>\n",
       "      <td>1001</td>\n",
       "      <td>10</td>\n",
       "      <td>22330.49</td>\n",
       "      <td>22.0</td>\n",
       "    </tr>\n",
       "    <tr>\n",
       "      <th>4</th>\n",
       "      <td>1001</td>\n",
       "      <td>11</td>\n",
       "      <td>18504.30</td>\n",
       "      <td>19.0</td>\n",
       "    </tr>\n",
       "  </tbody>\n",
       "</table>\n",
       "</div>"
      ],
      "text/plain": [
       "   user_id  month  total_data_mb  total_data_gb\n",
       "0     1000     12        1901.47            2.0\n",
       "1     1001      8        6919.15            7.0\n",
       "2     1001      9       13314.82           14.0\n",
       "3     1001     10       22330.49           22.0\n",
       "4     1001     11       18504.30           19.0"
      ]
     },
     "execution_count": 25,
     "metadata": {},
     "output_type": "execute_result"
    }
   ],
   "source": [
    "data_per_month[\"total_data_gb\"] = data_per_month[\"total_data_mb\"]/1024\n",
    "data_per_month[\"total_data_gb\"] = np.ceil(data_per_month[\"total_data_gb\"])\n",
    "data_per_month.head()"
   ]
  },
  {
   "cell_type": "markdown",
   "metadata": {},
   "source": [
    "Merging the data to help calculate the monthly revenue from each user"
   ]
  },
  {
   "cell_type": "code",
   "execution_count": 26,
   "metadata": {},
   "outputs": [
    {
     "data": {
      "text/html": [
       "<div>\n",
       "<style scoped>\n",
       "    .dataframe tbody tr th:only-of-type {\n",
       "        vertical-align: middle;\n",
       "    }\n",
       "\n",
       "    .dataframe tbody tr th {\n",
       "        vertical-align: top;\n",
       "    }\n",
       "\n",
       "    .dataframe thead th {\n",
       "        text-align: right;\n",
       "    }\n",
       "</style>\n",
       "<table border=\"1\" class=\"dataframe\">\n",
       "  <thead>\n",
       "    <tr style=\"text-align: right;\">\n",
       "      <th></th>\n",
       "      <th>user_id</th>\n",
       "      <th>month</th>\n",
       "      <th>total_duration</th>\n",
       "      <th>total_calls</th>\n",
       "      <th>total_messages</th>\n",
       "      <th>total_data_mb</th>\n",
       "      <th>total_data_gb</th>\n",
       "    </tr>\n",
       "  </thead>\n",
       "  <tbody>\n",
       "    <tr>\n",
       "      <th>0</th>\n",
       "      <td>1000</td>\n",
       "      <td>12</td>\n",
       "      <td>124.0</td>\n",
       "      <td>16.0</td>\n",
       "      <td>11.0</td>\n",
       "      <td>1901.47</td>\n",
       "      <td>2.0</td>\n",
       "    </tr>\n",
       "    <tr>\n",
       "      <th>1</th>\n",
       "      <td>1001</td>\n",
       "      <td>8</td>\n",
       "      <td>182.0</td>\n",
       "      <td>27.0</td>\n",
       "      <td>30.0</td>\n",
       "      <td>6919.15</td>\n",
       "      <td>7.0</td>\n",
       "    </tr>\n",
       "    <tr>\n",
       "      <th>2</th>\n",
       "      <td>1001</td>\n",
       "      <td>9</td>\n",
       "      <td>315.0</td>\n",
       "      <td>49.0</td>\n",
       "      <td>44.0</td>\n",
       "      <td>13314.82</td>\n",
       "      <td>14.0</td>\n",
       "    </tr>\n",
       "    <tr>\n",
       "      <th>3</th>\n",
       "      <td>1001</td>\n",
       "      <td>10</td>\n",
       "      <td>393.0</td>\n",
       "      <td>65.0</td>\n",
       "      <td>53.0</td>\n",
       "      <td>22330.49</td>\n",
       "      <td>22.0</td>\n",
       "    </tr>\n",
       "    <tr>\n",
       "      <th>4</th>\n",
       "      <td>1001</td>\n",
       "      <td>11</td>\n",
       "      <td>426.0</td>\n",
       "      <td>64.0</td>\n",
       "      <td>36.0</td>\n",
       "      <td>18504.30</td>\n",
       "      <td>19.0</td>\n",
       "    </tr>\n",
       "    <tr>\n",
       "      <th>5</th>\n",
       "      <td>1001</td>\n",
       "      <td>12</td>\n",
       "      <td>412.0</td>\n",
       "      <td>56.0</td>\n",
       "      <td>44.0</td>\n",
       "      <td>19369.18</td>\n",
       "      <td>19.0</td>\n",
       "    </tr>\n",
       "    <tr>\n",
       "      <th>6</th>\n",
       "      <td>1002</td>\n",
       "      <td>10</td>\n",
       "      <td>59.0</td>\n",
       "      <td>11.0</td>\n",
       "      <td>15.0</td>\n",
       "      <td>6552.01</td>\n",
       "      <td>7.0</td>\n",
       "    </tr>\n",
       "    <tr>\n",
       "      <th>7</th>\n",
       "      <td>1002</td>\n",
       "      <td>11</td>\n",
       "      <td>386.0</td>\n",
       "      <td>55.0</td>\n",
       "      <td>32.0</td>\n",
       "      <td>19345.08</td>\n",
       "      <td>19.0</td>\n",
       "    </tr>\n",
       "    <tr>\n",
       "      <th>8</th>\n",
       "      <td>1002</td>\n",
       "      <td>12</td>\n",
       "      <td>384.0</td>\n",
       "      <td>47.0</td>\n",
       "      <td>41.0</td>\n",
       "      <td>14396.24</td>\n",
       "      <td>15.0</td>\n",
       "    </tr>\n",
       "    <tr>\n",
       "      <th>9</th>\n",
       "      <td>1003</td>\n",
       "      <td>12</td>\n",
       "      <td>1104.0</td>\n",
       "      <td>149.0</td>\n",
       "      <td>50.0</td>\n",
       "      <td>27044.14</td>\n",
       "      <td>27.0</td>\n",
       "    </tr>\n",
       "  </tbody>\n",
       "</table>\n",
       "</div>"
      ],
      "text/plain": [
       "   user_id  month  total_duration  total_calls  total_messages  total_data_mb  \\\n",
       "0     1000     12           124.0         16.0            11.0        1901.47   \n",
       "1     1001      8           182.0         27.0            30.0        6919.15   \n",
       "2     1001      9           315.0         49.0            44.0       13314.82   \n",
       "3     1001     10           393.0         65.0            53.0       22330.49   \n",
       "4     1001     11           426.0         64.0            36.0       18504.30   \n",
       "5     1001     12           412.0         56.0            44.0       19369.18   \n",
       "6     1002     10            59.0         11.0            15.0        6552.01   \n",
       "7     1002     11           386.0         55.0            32.0       19345.08   \n",
       "8     1002     12           384.0         47.0            41.0       14396.24   \n",
       "9     1003     12          1104.0        149.0            50.0       27044.14   \n",
       "\n",
       "   total_data_gb  \n",
       "0            2.0  \n",
       "1            7.0  \n",
       "2           14.0  \n",
       "3           22.0  \n",
       "4           19.0  \n",
       "5           19.0  \n",
       "6            7.0  \n",
       "7           19.0  \n",
       "8           15.0  \n",
       "9           27.0  "
      ]
     },
     "execution_count": 26,
     "metadata": {},
     "output_type": "execute_result"
    }
   ],
   "source": [
    "dataframes = [monthly_calls_and_minutes,messages_per_month,data_per_month]\n",
    "df_merged = reduce(lambda  left,right: pd.merge(left,right,on=['user_id',\"month\"],how='outer'), dataframes).fillna(0)\n",
    "df_merged.head(10)"
   ]
  },
  {
   "cell_type": "markdown",
   "metadata": {},
   "source": [
    "Retrieving the plans (`tariff`) column from the `df_user` DataFrame"
   ]
  },
  {
   "cell_type": "code",
   "execution_count": 27,
   "metadata": {},
   "outputs": [
    {
     "data": {
      "text/html": [
       "<div>\n",
       "<style scoped>\n",
       "    .dataframe tbody tr th:only-of-type {\n",
       "        vertical-align: middle;\n",
       "    }\n",
       "\n",
       "    .dataframe tbody tr th {\n",
       "        vertical-align: top;\n",
       "    }\n",
       "\n",
       "    .dataframe thead th {\n",
       "        text-align: right;\n",
       "    }\n",
       "</style>\n",
       "<table border=\"1\" class=\"dataframe\">\n",
       "  <thead>\n",
       "    <tr style=\"text-align: right;\">\n",
       "      <th></th>\n",
       "      <th>user_id</th>\n",
       "      <th>plan_name</th>\n",
       "    </tr>\n",
       "  </thead>\n",
       "  <tbody>\n",
       "    <tr>\n",
       "      <th>0</th>\n",
       "      <td>1000</td>\n",
       "      <td>ultimate</td>\n",
       "    </tr>\n",
       "    <tr>\n",
       "      <th>1</th>\n",
       "      <td>1001</td>\n",
       "      <td>surf</td>\n",
       "    </tr>\n",
       "    <tr>\n",
       "      <th>2</th>\n",
       "      <td>1002</td>\n",
       "      <td>surf</td>\n",
       "    </tr>\n",
       "    <tr>\n",
       "      <th>3</th>\n",
       "      <td>1003</td>\n",
       "      <td>surf</td>\n",
       "    </tr>\n",
       "    <tr>\n",
       "      <th>4</th>\n",
       "      <td>1004</td>\n",
       "      <td>surf</td>\n",
       "    </tr>\n",
       "  </tbody>\n",
       "</table>\n",
       "</div>"
      ],
      "text/plain": [
       "   user_id plan_name\n",
       "0     1000  ultimate\n",
       "1     1001      surf\n",
       "2     1002      surf\n",
       "3     1003      surf\n",
       "4     1004      surf"
      ]
     },
     "execution_count": 27,
     "metadata": {},
     "output_type": "execute_result"
    }
   ],
   "source": [
    "pd.set_option('mode.chained_assignment', None) # To control for SettingWithCopyWarning\n",
    "plans= df_users[[\"user_id\",\"tariff\"]]\n",
    "plans.rename({\"tariff\":\"plan_name\"},axis=1, inplace=True)\n",
    "plans.head()"
   ]
  },
  {
   "cell_type": "markdown",
   "metadata": {},
   "source": [
    "Merging plans dataframe with merged data"
   ]
  },
  {
   "cell_type": "code",
   "execution_count": 28,
   "metadata": {},
   "outputs": [
    {
     "data": {
      "text/html": [
       "<div>\n",
       "<style scoped>\n",
       "    .dataframe tbody tr th:only-of-type {\n",
       "        vertical-align: middle;\n",
       "    }\n",
       "\n",
       "    .dataframe tbody tr th {\n",
       "        vertical-align: top;\n",
       "    }\n",
       "\n",
       "    .dataframe thead th {\n",
       "        text-align: right;\n",
       "    }\n",
       "</style>\n",
       "<table border=\"1\" class=\"dataframe\">\n",
       "  <thead>\n",
       "    <tr style=\"text-align: right;\">\n",
       "      <th></th>\n",
       "      <th>user_id</th>\n",
       "      <th>month</th>\n",
       "      <th>total_duration</th>\n",
       "      <th>total_calls</th>\n",
       "      <th>total_messages</th>\n",
       "      <th>total_data_mb</th>\n",
       "      <th>total_data_gb</th>\n",
       "      <th>plan_name</th>\n",
       "    </tr>\n",
       "  </thead>\n",
       "  <tbody>\n",
       "    <tr>\n",
       "      <th>0</th>\n",
       "      <td>1000</td>\n",
       "      <td>12</td>\n",
       "      <td>124.0</td>\n",
       "      <td>16.0</td>\n",
       "      <td>11.0</td>\n",
       "      <td>1901.47</td>\n",
       "      <td>2.0</td>\n",
       "      <td>ultimate</td>\n",
       "    </tr>\n",
       "    <tr>\n",
       "      <th>1</th>\n",
       "      <td>1001</td>\n",
       "      <td>8</td>\n",
       "      <td>182.0</td>\n",
       "      <td>27.0</td>\n",
       "      <td>30.0</td>\n",
       "      <td>6919.15</td>\n",
       "      <td>7.0</td>\n",
       "      <td>surf</td>\n",
       "    </tr>\n",
       "    <tr>\n",
       "      <th>2</th>\n",
       "      <td>1001</td>\n",
       "      <td>9</td>\n",
       "      <td>315.0</td>\n",
       "      <td>49.0</td>\n",
       "      <td>44.0</td>\n",
       "      <td>13314.82</td>\n",
       "      <td>14.0</td>\n",
       "      <td>surf</td>\n",
       "    </tr>\n",
       "    <tr>\n",
       "      <th>3</th>\n",
       "      <td>1001</td>\n",
       "      <td>10</td>\n",
       "      <td>393.0</td>\n",
       "      <td>65.0</td>\n",
       "      <td>53.0</td>\n",
       "      <td>22330.49</td>\n",
       "      <td>22.0</td>\n",
       "      <td>surf</td>\n",
       "    </tr>\n",
       "    <tr>\n",
       "      <th>4</th>\n",
       "      <td>1001</td>\n",
       "      <td>11</td>\n",
       "      <td>426.0</td>\n",
       "      <td>64.0</td>\n",
       "      <td>36.0</td>\n",
       "      <td>18504.30</td>\n",
       "      <td>19.0</td>\n",
       "      <td>surf</td>\n",
       "    </tr>\n",
       "  </tbody>\n",
       "</table>\n",
       "</div>"
      ],
      "text/plain": [
       "   user_id  month  total_duration  total_calls  total_messages  total_data_mb  \\\n",
       "0     1000     12           124.0         16.0            11.0        1901.47   \n",
       "1     1001      8           182.0         27.0            30.0        6919.15   \n",
       "2     1001      9           315.0         49.0            44.0       13314.82   \n",
       "3     1001     10           393.0         65.0            53.0       22330.49   \n",
       "4     1001     11           426.0         64.0            36.0       18504.30   \n",
       "\n",
       "   total_data_gb plan_name  \n",
       "0            2.0  ultimate  \n",
       "1            7.0      surf  \n",
       "2           14.0      surf  \n",
       "3           22.0      surf  \n",
       "4           19.0      surf  "
      ]
     },
     "execution_count": 28,
     "metadata": {},
     "output_type": "execute_result"
    }
   ],
   "source": [
    "df_merged_new=df_merged.merge(plans,on='user_id')\n",
    "df_merged_new.head()"
   ]
  },
  {
   "cell_type": "markdown",
   "metadata": {},
   "source": [
    "Checking general information of merged data"
   ]
  },
  {
   "cell_type": "code",
   "execution_count": 29,
   "metadata": {},
   "outputs": [
    {
     "name": "stdout",
     "output_type": "stream",
     "text": [
      "<class 'pandas.core.frame.DataFrame'>\n",
      "Int64Index: 2293 entries, 0 to 2292\n",
      "Data columns (total 8 columns):\n",
      " #   Column          Non-Null Count  Dtype  \n",
      "---  ------          --------------  -----  \n",
      " 0   user_id         2293 non-null   int64  \n",
      " 1   month           2293 non-null   int64  \n",
      " 2   total_duration  2293 non-null   float64\n",
      " 3   total_calls     2293 non-null   float64\n",
      " 4   total_messages  2293 non-null   float64\n",
      " 5   total_data_mb   2293 non-null   float64\n",
      " 6   total_data_gb   2293 non-null   float64\n",
      " 7   plan_name       2293 non-null   object \n",
      "dtypes: float64(5), int64(2), object(1)\n",
      "memory usage: 161.2+ KB\n"
     ]
    }
   ],
   "source": [
    "df_merged_new.info()"
   ]
  },
  {
   "cell_type": "markdown",
   "metadata": {},
   "source": [
    "Calculating monthly revenue from each user"
   ]
  },
  {
   "cell_type": "code",
   "execution_count": 30,
   "metadata": {},
   "outputs": [
    {
     "data": {
      "text/html": [
       "<div>\n",
       "<style scoped>\n",
       "    .dataframe tbody tr th:only-of-type {\n",
       "        vertical-align: middle;\n",
       "    }\n",
       "\n",
       "    .dataframe tbody tr th {\n",
       "        vertical-align: top;\n",
       "    }\n",
       "\n",
       "    .dataframe thead th {\n",
       "        text-align: right;\n",
       "    }\n",
       "</style>\n",
       "<table border=\"1\" class=\"dataframe\">\n",
       "  <thead>\n",
       "    <tr style=\"text-align: right;\">\n",
       "      <th></th>\n",
       "      <th>user_id</th>\n",
       "      <th>month</th>\n",
       "      <th>total_duration</th>\n",
       "      <th>total_calls</th>\n",
       "      <th>total_messages</th>\n",
       "      <th>total_data_mb</th>\n",
       "      <th>total_data_gb</th>\n",
       "      <th>plan_name</th>\n",
       "      <th>monthly_revenue</th>\n",
       "    </tr>\n",
       "  </thead>\n",
       "  <tbody>\n",
       "    <tr>\n",
       "      <th>0</th>\n",
       "      <td>1000</td>\n",
       "      <td>12</td>\n",
       "      <td>124.0</td>\n",
       "      <td>16.0</td>\n",
       "      <td>11.0</td>\n",
       "      <td>1901.47</td>\n",
       "      <td>2.0</td>\n",
       "      <td>ultimate</td>\n",
       "      <td>70.00</td>\n",
       "    </tr>\n",
       "    <tr>\n",
       "      <th>1</th>\n",
       "      <td>1001</td>\n",
       "      <td>8</td>\n",
       "      <td>182.0</td>\n",
       "      <td>27.0</td>\n",
       "      <td>30.0</td>\n",
       "      <td>6919.15</td>\n",
       "      <td>7.0</td>\n",
       "      <td>surf</td>\n",
       "      <td>20.00</td>\n",
       "    </tr>\n",
       "    <tr>\n",
       "      <th>2</th>\n",
       "      <td>1001</td>\n",
       "      <td>9</td>\n",
       "      <td>315.0</td>\n",
       "      <td>49.0</td>\n",
       "      <td>44.0</td>\n",
       "      <td>13314.82</td>\n",
       "      <td>14.0</td>\n",
       "      <td>surf</td>\n",
       "      <td>20.00</td>\n",
       "    </tr>\n",
       "    <tr>\n",
       "      <th>3</th>\n",
       "      <td>1001</td>\n",
       "      <td>10</td>\n",
       "      <td>393.0</td>\n",
       "      <td>65.0</td>\n",
       "      <td>53.0</td>\n",
       "      <td>22330.49</td>\n",
       "      <td>22.0</td>\n",
       "      <td>surf</td>\n",
       "      <td>90.09</td>\n",
       "    </tr>\n",
       "    <tr>\n",
       "      <th>4</th>\n",
       "      <td>1001</td>\n",
       "      <td>11</td>\n",
       "      <td>426.0</td>\n",
       "      <td>64.0</td>\n",
       "      <td>36.0</td>\n",
       "      <td>18504.30</td>\n",
       "      <td>19.0</td>\n",
       "      <td>surf</td>\n",
       "      <td>60.00</td>\n",
       "    </tr>\n",
       "    <tr>\n",
       "      <th>5</th>\n",
       "      <td>1001</td>\n",
       "      <td>12</td>\n",
       "      <td>412.0</td>\n",
       "      <td>56.0</td>\n",
       "      <td>44.0</td>\n",
       "      <td>19369.18</td>\n",
       "      <td>19.0</td>\n",
       "      <td>surf</td>\n",
       "      <td>60.00</td>\n",
       "    </tr>\n",
       "    <tr>\n",
       "      <th>6</th>\n",
       "      <td>1002</td>\n",
       "      <td>10</td>\n",
       "      <td>59.0</td>\n",
       "      <td>11.0</td>\n",
       "      <td>15.0</td>\n",
       "      <td>6552.01</td>\n",
       "      <td>7.0</td>\n",
       "      <td>surf</td>\n",
       "      <td>20.00</td>\n",
       "    </tr>\n",
       "    <tr>\n",
       "      <th>7</th>\n",
       "      <td>1002</td>\n",
       "      <td>11</td>\n",
       "      <td>386.0</td>\n",
       "      <td>55.0</td>\n",
       "      <td>32.0</td>\n",
       "      <td>19345.08</td>\n",
       "      <td>19.0</td>\n",
       "      <td>surf</td>\n",
       "      <td>60.00</td>\n",
       "    </tr>\n",
       "    <tr>\n",
       "      <th>8</th>\n",
       "      <td>1002</td>\n",
       "      <td>12</td>\n",
       "      <td>384.0</td>\n",
       "      <td>47.0</td>\n",
       "      <td>41.0</td>\n",
       "      <td>14396.24</td>\n",
       "      <td>15.0</td>\n",
       "      <td>surf</td>\n",
       "      <td>20.00</td>\n",
       "    </tr>\n",
       "    <tr>\n",
       "      <th>9</th>\n",
       "      <td>1003</td>\n",
       "      <td>12</td>\n",
       "      <td>1104.0</td>\n",
       "      <td>149.0</td>\n",
       "      <td>50.0</td>\n",
       "      <td>27044.14</td>\n",
       "      <td>27.0</td>\n",
       "      <td>surf</td>\n",
       "      <td>158.12</td>\n",
       "    </tr>\n",
       "  </tbody>\n",
       "</table>\n",
       "</div>"
      ],
      "text/plain": [
       "   user_id  month  total_duration  total_calls  total_messages  total_data_mb  \\\n",
       "0     1000     12           124.0         16.0            11.0        1901.47   \n",
       "1     1001      8           182.0         27.0            30.0        6919.15   \n",
       "2     1001      9           315.0         49.0            44.0       13314.82   \n",
       "3     1001     10           393.0         65.0            53.0       22330.49   \n",
       "4     1001     11           426.0         64.0            36.0       18504.30   \n",
       "5     1001     12           412.0         56.0            44.0       19369.18   \n",
       "6     1002     10            59.0         11.0            15.0        6552.01   \n",
       "7     1002     11           386.0         55.0            32.0       19345.08   \n",
       "8     1002     12           384.0         47.0            41.0       14396.24   \n",
       "9     1003     12          1104.0        149.0            50.0       27044.14   \n",
       "\n",
       "   total_data_gb plan_name  monthly_revenue  \n",
       "0            2.0  ultimate            70.00  \n",
       "1            7.0      surf            20.00  \n",
       "2           14.0      surf            20.00  \n",
       "3           22.0      surf            90.09  \n",
       "4           19.0      surf            60.00  \n",
       "5           19.0      surf            60.00  \n",
       "6            7.0      surf            20.00  \n",
       "7           19.0      surf            60.00  \n",
       "8           15.0      surf            20.00  \n",
       "9           27.0      surf           158.12  "
      ]
     },
     "execution_count": 30,
     "metadata": {},
     "output_type": "execute_result"
    }
   ],
   "source": [
    "def cost(row):\n",
    "    \"\"\" This function calculates The monthly revenue from each user. Free package limit from the \n",
    "    total number of calls, text messages, and data would be subtracted; the result will be multiplied by the \n",
    "    plan value and monthly charge will be added depending on the calling plan.\n",
    "    This will be guided by the following: \n",
    "    If Plan_name == Surf\n",
    "    - Monthly charge: $20\n",
    "    - 500 monthly minutes, 50 texts, and 15 GB of data\n",
    "    - After exceeding the package limits:\n",
    "        1 minute: 3 cents\n",
    "        1 text message: 3 cents\n",
    "        1 GB of data: $10\n",
    "    Else if Plan_name == Ultimate\n",
    "    - Monthly charge: $70\n",
    "    - 3000 monthly minutes, 1000 text messages, and 30 GB of data\n",
    "    - After exceeding the package limits:\n",
    "        1 minute: 1 cent\n",
    "        1 text message: 1 cent\n",
    "        1 GB of data: $7\"\"\"\n",
    "    \n",
    "    total_duration = row[\"total_duration\"]\n",
    "    total_messages = row[\"total_messages\"]\n",
    "    total_data_gb = row[\"total_data_gb\"]\n",
    "    plan_name = row[\"plan_name\"]\n",
    "    \n",
    "    \n",
    "    if plan_name == \"surf\":\n",
    "        usd_monthly_pay = 20\n",
    "        if total_duration > 500:\n",
    "            call_charge = 0.03*(total_duration - 500)\n",
    "        else:\n",
    "            call_charge = 0\n",
    "        \n",
    "        if total_messages > 50:\n",
    "            message_charge = 0.03*(total_messages - 50)\n",
    "        else: \n",
    "            message_charge = 0\n",
    "        \n",
    "        if total_data_gb > 15 :\n",
    "            data_charge = 10*(total_data_gb - 15)\n",
    "        else:\n",
    "            data_charge = 0 \n",
    "            \n",
    "    elif plan_name == \"ultimate\":\n",
    "        usd_monthly_pay = 70\n",
    "        if total_duration > 3000:\n",
    "            call_charge =  (0.01)*(total_duration - 3000)\n",
    "        else:\n",
    "            call_charge = 0\n",
    "        \n",
    "        if total_messages > 1000:\n",
    "            message_charge = 0.01*(total_messages - 1000)\n",
    "        else: \n",
    "            message_charge = 0 \n",
    "        \n",
    "        if total_data_gb > 30 :\n",
    "            data_charge =  7*(total_data_gb - 30)\n",
    "        else:\n",
    "            data_charge = 0\n",
    "            \n",
    "    user_monthly_revenue = usd_monthly_pay + call_charge + message_charge + data_charge\n",
    "    return user_monthly_revenue\n",
    "#adding monthly revenue column to the dataframe by applying the cost function\n",
    "df_merged_new[\"monthly_revenue\"]=df_merged_new.apply(cost,axis=1)\n",
    "df_merged_new.head(10)"
   ]
  },
  {
   "cell_type": "markdown",
   "metadata": {},
   "source": [
    "### Interrim conclusion\n",
    "\n",
    "Missing values and errors in data have been dealt with.\n",
    "New columns are added, and the datesets are merged.\n",
    "The data is, hence, prepared and ready for analysis."
   ]
  },
  {
   "cell_type": "markdown",
   "metadata": {},
   "source": [
    "## Step 3: Analyze the data"
   ]
  },
  {
   "cell_type": "markdown",
   "metadata": {},
   "source": [
    "### Describing the customers' behavior"
   ]
  },
  {
   "cell_type": "code",
   "execution_count": 31,
   "metadata": {},
   "outputs": [
    {
     "data": {
      "text/html": [
       "<div>\n",
       "<style scoped>\n",
       "    .dataframe tbody tr th:only-of-type {\n",
       "        vertical-align: middle;\n",
       "    }\n",
       "\n",
       "    .dataframe tbody tr th {\n",
       "        vertical-align: top;\n",
       "    }\n",
       "\n",
       "    .dataframe thead th {\n",
       "        text-align: right;\n",
       "    }\n",
       "</style>\n",
       "<table border=\"1\" class=\"dataframe\">\n",
       "  <thead>\n",
       "    <tr style=\"text-align: right;\">\n",
       "      <th></th>\n",
       "      <th>user_id</th>\n",
       "      <th>month</th>\n",
       "      <th>total_duration</th>\n",
       "      <th>total_calls</th>\n",
       "      <th>total_messages</th>\n",
       "      <th>total_data_mb</th>\n",
       "      <th>total_data_gb</th>\n",
       "      <th>monthly_revenue</th>\n",
       "    </tr>\n",
       "  </thead>\n",
       "  <tbody>\n",
       "    <tr>\n",
       "      <th>count</th>\n",
       "      <td>2293.000000</td>\n",
       "      <td>2293.000000</td>\n",
       "      <td>2293.000000</td>\n",
       "      <td>2293.000000</td>\n",
       "      <td>2293.000000</td>\n",
       "      <td>2293.000000</td>\n",
       "      <td>2293.000000</td>\n",
       "      <td>2293.000000</td>\n",
       "    </tr>\n",
       "    <tr>\n",
       "      <th>mean</th>\n",
       "      <td>1246.075883</td>\n",
       "      <td>9.172700</td>\n",
       "      <td>429.283471</td>\n",
       "      <td>60.067597</td>\n",
       "      <td>33.166594</td>\n",
       "      <td>16764.397606</td>\n",
       "      <td>16.870475</td>\n",
       "      <td>64.351147</td>\n",
       "    </tr>\n",
       "    <tr>\n",
       "      <th>std</th>\n",
       "      <td>143.051927</td>\n",
       "      <td>2.496386</td>\n",
       "      <td>236.320077</td>\n",
       "      <td>32.402563</td>\n",
       "      <td>34.070085</td>\n",
       "      <td>7967.237527</td>\n",
       "      <td>7.796174</td>\n",
       "      <td>46.624945</td>\n",
       "    </tr>\n",
       "    <tr>\n",
       "      <th>min</th>\n",
       "      <td>1000.000000</td>\n",
       "      <td>1.000000</td>\n",
       "      <td>0.000000</td>\n",
       "      <td>0.000000</td>\n",
       "      <td>0.000000</td>\n",
       "      <td>0.000000</td>\n",
       "      <td>0.000000</td>\n",
       "      <td>20.000000</td>\n",
       "    </tr>\n",
       "    <tr>\n",
       "      <th>25%</th>\n",
       "      <td>1122.000000</td>\n",
       "      <td>8.000000</td>\n",
       "      <td>265.000000</td>\n",
       "      <td>38.000000</td>\n",
       "      <td>3.000000</td>\n",
       "      <td>12235.760000</td>\n",
       "      <td>12.000000</td>\n",
       "      <td>23.480000</td>\n",
       "    </tr>\n",
       "    <tr>\n",
       "      <th>50%</th>\n",
       "      <td>1245.000000</td>\n",
       "      <td>10.000000</td>\n",
       "      <td>425.000000</td>\n",
       "      <td>60.000000</td>\n",
       "      <td>26.000000</td>\n",
       "      <td>16830.640000</td>\n",
       "      <td>17.000000</td>\n",
       "      <td>70.000000</td>\n",
       "    </tr>\n",
       "    <tr>\n",
       "      <th>75%</th>\n",
       "      <td>1368.000000</td>\n",
       "      <td>11.000000</td>\n",
       "      <td>572.000000</td>\n",
       "      <td>79.000000</td>\n",
       "      <td>51.000000</td>\n",
       "      <td>20999.840000</td>\n",
       "      <td>21.000000</td>\n",
       "      <td>70.000000</td>\n",
       "    </tr>\n",
       "    <tr>\n",
       "      <th>max</th>\n",
       "      <td>1499.000000</td>\n",
       "      <td>12.000000</td>\n",
       "      <td>1510.000000</td>\n",
       "      <td>205.000000</td>\n",
       "      <td>266.000000</td>\n",
       "      <td>70931.590000</td>\n",
       "      <td>70.000000</td>\n",
       "      <td>590.370000</td>\n",
       "    </tr>\n",
       "  </tbody>\n",
       "</table>\n",
       "</div>"
      ],
      "text/plain": [
       "           user_id        month  total_duration  total_calls  total_messages  \\\n",
       "count  2293.000000  2293.000000     2293.000000  2293.000000     2293.000000   \n",
       "mean   1246.075883     9.172700      429.283471    60.067597       33.166594   \n",
       "std     143.051927     2.496386      236.320077    32.402563       34.070085   \n",
       "min    1000.000000     1.000000        0.000000     0.000000        0.000000   \n",
       "25%    1122.000000     8.000000      265.000000    38.000000        3.000000   \n",
       "50%    1245.000000    10.000000      425.000000    60.000000       26.000000   \n",
       "75%    1368.000000    11.000000      572.000000    79.000000       51.000000   \n",
       "max    1499.000000    12.000000     1510.000000   205.000000      266.000000   \n",
       "\n",
       "       total_data_mb  total_data_gb  monthly_revenue  \n",
       "count    2293.000000    2293.000000      2293.000000  \n",
       "mean    16764.397606      16.870475        64.351147  \n",
       "std      7967.237527       7.796174        46.624945  \n",
       "min         0.000000       0.000000        20.000000  \n",
       "25%     12235.760000      12.000000        23.480000  \n",
       "50%     16830.640000      17.000000        70.000000  \n",
       "75%     20999.840000      21.000000        70.000000  \n",
       "max     70931.590000      70.000000       590.370000  "
      ]
     },
     "execution_count": 31,
     "metadata": {},
     "output_type": "execute_result"
    }
   ],
   "source": [
    "df_merged_new.describe()"
   ]
  },
  {
   "cell_type": "markdown",
   "metadata": {},
   "source": [
    "On average, in a month, a customer of Megaline spent about 429 minutes on calls in 2018. The maximum duration a \n",
    "customer spend on calls in a month is about 1510 minutes. In a month, a customer makes about 60 calls on average.\n",
    "Averagely, a customer of megaline sends about 33 text messages in a month. The highest number of text messages a \n",
    "customer sent in a month in 2018 was 266. In a month, a customer of Megaline uses about 17 gigabytes of data, and \n",
    "largest data used in a month in 2018 was about 70 Gigabytes. The highest revenue generated in a month from a \n",
    "customer was about $590.37 ; the minimum was about 20.00 dollars. The average revenue Megaline generated in a month from its' customers in 2018 was about 64.35 dollars"
   ]
  },
  {
   "cell_type": "markdown",
   "metadata": {},
   "source": [
    "Distribution of revenue by each plan in a month"
   ]
  },
  {
   "cell_type": "code",
   "execution_count": 32,
   "metadata": {},
   "outputs": [
    {
     "data": {
      "text/html": [
       "<div>\n",
       "<style scoped>\n",
       "    .dataframe tbody tr th:only-of-type {\n",
       "        vertical-align: middle;\n",
       "    }\n",
       "\n",
       "    .dataframe tbody tr th {\n",
       "        vertical-align: top;\n",
       "    }\n",
       "\n",
       "    .dataframe thead th {\n",
       "        text-align: right;\n",
       "    }\n",
       "</style>\n",
       "<table border=\"1\" class=\"dataframe\">\n",
       "  <thead>\n",
       "    <tr style=\"text-align: right;\">\n",
       "      <th></th>\n",
       "      <th></th>\n",
       "      <th>monthly_revenue</th>\n",
       "    </tr>\n",
       "    <tr>\n",
       "      <th>month</th>\n",
       "      <th>plan_name</th>\n",
       "      <th></th>\n",
       "    </tr>\n",
       "  </thead>\n",
       "  <tbody>\n",
       "    <tr>\n",
       "      <th rowspan=\"2\" valign=\"top\">1</th>\n",
       "      <th>surf</th>\n",
       "      <td>40.00</td>\n",
       "    </tr>\n",
       "    <tr>\n",
       "      <th>ultimate</th>\n",
       "      <td>280.00</td>\n",
       "    </tr>\n",
       "    <tr>\n",
       "      <th rowspan=\"2\" valign=\"top\">2</th>\n",
       "      <th>surf</th>\n",
       "      <td>309.57</td>\n",
       "    </tr>\n",
       "    <tr>\n",
       "      <th>ultimate</th>\n",
       "      <td>490.00</td>\n",
       "    </tr>\n",
       "    <tr>\n",
       "      <th rowspan=\"2\" valign=\"top\">3</th>\n",
       "      <th>surf</th>\n",
       "      <td>1056.65</td>\n",
       "    </tr>\n",
       "    <tr>\n",
       "      <th>ultimate</th>\n",
       "      <td>896.00</td>\n",
       "    </tr>\n",
       "    <tr>\n",
       "      <th rowspan=\"2\" valign=\"top\">4</th>\n",
       "      <th>surf</th>\n",
       "      <td>2035.53</td>\n",
       "    </tr>\n",
       "    <tr>\n",
       "      <th>ultimate</th>\n",
       "      <td>1533.00</td>\n",
       "    </tr>\n",
       "    <tr>\n",
       "      <th rowspan=\"2\" valign=\"top\">5</th>\n",
       "      <th>surf</th>\n",
       "      <td>3667.37</td>\n",
       "    </tr>\n",
       "    <tr>\n",
       "      <th>ultimate</th>\n",
       "      <td>2051.00</td>\n",
       "    </tr>\n",
       "    <tr>\n",
       "      <th rowspan=\"2\" valign=\"top\">6</th>\n",
       "      <th>surf</th>\n",
       "      <td>4779.80</td>\n",
       "    </tr>\n",
       "    <tr>\n",
       "      <th>ultimate</th>\n",
       "      <td>3367.00</td>\n",
       "    </tr>\n",
       "    <tr>\n",
       "      <th rowspan=\"2\" valign=\"top\">7</th>\n",
       "      <th>surf</th>\n",
       "      <td>7583.56</td>\n",
       "    </tr>\n",
       "    <tr>\n",
       "      <th>ultimate</th>\n",
       "      <td>4242.00</td>\n",
       "    </tr>\n",
       "    <tr>\n",
       "      <th rowspan=\"2\" valign=\"top\">8</th>\n",
       "      <th>surf</th>\n",
       "      <td>10356.85</td>\n",
       "    </tr>\n",
       "    <tr>\n",
       "      <th>ultimate</th>\n",
       "      <td>5173.00</td>\n",
       "    </tr>\n",
       "    <tr>\n",
       "      <th rowspan=\"2\" valign=\"top\">9</th>\n",
       "      <th>surf</th>\n",
       "      <td>11304.67</td>\n",
       "    </tr>\n",
       "    <tr>\n",
       "      <th>ultimate</th>\n",
       "      <td>6195.00</td>\n",
       "    </tr>\n",
       "    <tr>\n",
       "      <th rowspan=\"2\" valign=\"top\">10</th>\n",
       "      <th>surf</th>\n",
       "      <td>15504.83</td>\n",
       "    </tr>\n",
       "    <tr>\n",
       "      <th>ultimate</th>\n",
       "      <td>7665.00</td>\n",
       "    </tr>\n",
       "    <tr>\n",
       "      <th rowspan=\"2\" valign=\"top\">11</th>\n",
       "      <th>surf</th>\n",
       "      <td>16415.21</td>\n",
       "    </tr>\n",
       "    <tr>\n",
       "      <th>ultimate</th>\n",
       "      <td>9107.00</td>\n",
       "    </tr>\n",
       "    <tr>\n",
       "      <th rowspan=\"2\" valign=\"top\">12</th>\n",
       "      <th>surf</th>\n",
       "      <td>22437.14</td>\n",
       "    </tr>\n",
       "    <tr>\n",
       "      <th>ultimate</th>\n",
       "      <td>11067.00</td>\n",
       "    </tr>\n",
       "  </tbody>\n",
       "</table>\n",
       "</div>"
      ],
      "text/plain": [
       "                 monthly_revenue\n",
       "month plan_name                 \n",
       "1     surf                 40.00\n",
       "      ultimate            280.00\n",
       "2     surf                309.57\n",
       "      ultimate            490.00\n",
       "3     surf               1056.65\n",
       "      ultimate            896.00\n",
       "4     surf               2035.53\n",
       "      ultimate           1533.00\n",
       "5     surf               3667.37\n",
       "      ultimate           2051.00\n",
       "6     surf               4779.80\n",
       "      ultimate           3367.00\n",
       "7     surf               7583.56\n",
       "      ultimate           4242.00\n",
       "8     surf              10356.85\n",
       "      ultimate           5173.00\n",
       "9     surf              11304.67\n",
       "      ultimate           6195.00\n",
       "10    surf              15504.83\n",
       "      ultimate           7665.00\n",
       "11    surf              16415.21\n",
       "      ultimate           9107.00\n",
       "12    surf              22437.14\n",
       "      ultimate          11067.00"
      ]
     },
     "execution_count": 32,
     "metadata": {},
     "output_type": "execute_result"
    }
   ],
   "source": [
    "Monthly_revenue_distribution = df_merged_new.pivot_table(index=[\"month\", \"plan_name\"], values=\"monthly_revenue\", aggfunc= \"sum\")\n",
    "Monthly_revenue_distribution"
   ]
  },
  {
   "cell_type": "markdown",
   "metadata": {},
   "source": [
    "In January 2018, the Surf plan generated about 7 times lower of the sum of revenue the Ultimate plan generated for Mageline. However, in December 2018, the Surf plan generated more than twice the sum of revenue by the Ultimate plan."
   ]
  },
  {
   "cell_type": "markdown",
   "metadata": {},
   "source": [
    "Filtering each plan to visualise the trend of revenue"
   ]
  },
  {
   "cell_type": "code",
   "execution_count": 33,
   "metadata": {},
   "outputs": [
    {
     "data": {
      "image/png": "[encoded data removed]",
      "text/plain": [
       "<Figure size 576x432 with 1 Axes>"
      ]
     },
     "metadata": {
      "needs_background": "light"
     },
     "output_type": "display_data"
    }
   ],
   "source": [
    "surf=Monthly_revenue_distribution[Monthly_revenue_distribution.index.get_level_values(1)==\"surf\"].reset_index()\n",
    "ultimate= Monthly_revenue_distribution[Monthly_revenue_distribution.index.get_level_values(1)==\"ultimate\"].reset_index()\n",
    "fig, ax = plt.subplots()\n",
    "fig.set_size_inches(8,6)\n",
    "plt.plot(surf[\"month\"], surf[\"monthly_revenue\"],color=\"green\", label=\"Monthly Revenue - Surf\", )\n",
    "plt.plot(ultimate[\"month\"],ultimate[\"monthly_revenue\"], color=\"orange\", label=\"Monthly Revenue - Ultimate\")\n",
    "plt.legend()\n",
    "plt.title(\"Trend of Monthly Revenues for Megaline Plans\", fontdict={\"size\":12})\n",
    "plt.ylabel(\"Sum of revenue\", fontdict={\"size\":12})\n",
    "plt.xlabel(\"Months\", fontdict={\"size\":12})\n",
    "plt.show()"
   ]
  },
  {
   "cell_type": "markdown",
   "metadata": {},
   "source": [
    "From March 2018, the Surf plan continuously generated more monthly revenue than the Ultimate plan. \n",
    "The sum of monthly revenues for both plans (Surf and Ultimate) increased monotonically in 2018.\n",
    "Both plans peaked in revenue in December 2018."
   ]
  },
  {
   "cell_type": "markdown",
   "metadata": {},
   "source": [
    "Total revenue for surf and ultimate plans in 2018"
   ]
  },
  {
   "cell_type": "code",
   "execution_count": 34,
   "metadata": {},
   "outputs": [
    {
     "data": {
      "text/plain": [
       "95491.18"
      ]
     },
     "execution_count": 34,
     "metadata": {},
     "output_type": "execute_result"
    }
   ],
   "source": [
    "round(Monthly_revenue_distribution[Monthly_revenue_distribution.index.get_level_values(1)==\"surf\"].sum(),2)[0]"
   ]
  },
  {
   "cell_type": "code",
   "execution_count": 35,
   "metadata": {},
   "outputs": [
    {
     "data": {
      "text/plain": [
       "52066.0"
      ]
     },
     "execution_count": 35,
     "metadata": {},
     "output_type": "execute_result"
    }
   ],
   "source": [
    "round(Monthly_revenue_distribution[Monthly_revenue_distribution.index.get_level_values(1)==\"ultimate\"].sum(),2)[0]"
   ]
  },
  {
   "cell_type": "markdown",
   "metadata": {},
   "source": [
    "In 2018, the surf plan generated an annual revenue of about 95,491.18 dollars while the ultimate plan generated \n",
    "about 52,066.00 dollars as annual revenue."
   ]
  },
  {
   "cell_type": "markdown",
   "metadata": {},
   "source": [
    "Filtering surf dataframe "
   ]
  },
  {
   "cell_type": "code",
   "execution_count": 36,
   "metadata": {},
   "outputs": [
    {
     "data": {
      "text/html": [
       "<div>\n",
       "<style scoped>\n",
       "    .dataframe tbody tr th:only-of-type {\n",
       "        vertical-align: middle;\n",
       "    }\n",
       "\n",
       "    .dataframe tbody tr th {\n",
       "        vertical-align: top;\n",
       "    }\n",
       "\n",
       "    .dataframe thead th {\n",
       "        text-align: right;\n",
       "    }\n",
       "</style>\n",
       "<table border=\"1\" class=\"dataframe\">\n",
       "  <thead>\n",
       "    <tr style=\"text-align: right;\">\n",
       "      <th></th>\n",
       "      <th>user_id</th>\n",
       "      <th>month</th>\n",
       "      <th>total_duration</th>\n",
       "      <th>total_calls</th>\n",
       "      <th>total_messages</th>\n",
       "      <th>total_data_mb</th>\n",
       "      <th>total_data_gb</th>\n",
       "      <th>plan_name</th>\n",
       "      <th>monthly_revenue</th>\n",
       "    </tr>\n",
       "  </thead>\n",
       "  <tbody>\n",
       "    <tr>\n",
       "      <th>1</th>\n",
       "      <td>1001</td>\n",
       "      <td>8</td>\n",
       "      <td>182.0</td>\n",
       "      <td>27.0</td>\n",
       "      <td>30.0</td>\n",
       "      <td>6919.15</td>\n",
       "      <td>7.0</td>\n",
       "      <td>surf</td>\n",
       "      <td>20.00</td>\n",
       "    </tr>\n",
       "    <tr>\n",
       "      <th>2</th>\n",
       "      <td>1001</td>\n",
       "      <td>9</td>\n",
       "      <td>315.0</td>\n",
       "      <td>49.0</td>\n",
       "      <td>44.0</td>\n",
       "      <td>13314.82</td>\n",
       "      <td>14.0</td>\n",
       "      <td>surf</td>\n",
       "      <td>20.00</td>\n",
       "    </tr>\n",
       "    <tr>\n",
       "      <th>3</th>\n",
       "      <td>1001</td>\n",
       "      <td>10</td>\n",
       "      <td>393.0</td>\n",
       "      <td>65.0</td>\n",
       "      <td>53.0</td>\n",
       "      <td>22330.49</td>\n",
       "      <td>22.0</td>\n",
       "      <td>surf</td>\n",
       "      <td>90.09</td>\n",
       "    </tr>\n",
       "    <tr>\n",
       "      <th>4</th>\n",
       "      <td>1001</td>\n",
       "      <td>11</td>\n",
       "      <td>426.0</td>\n",
       "      <td>64.0</td>\n",
       "      <td>36.0</td>\n",
       "      <td>18504.30</td>\n",
       "      <td>19.0</td>\n",
       "      <td>surf</td>\n",
       "      <td>60.00</td>\n",
       "    </tr>\n",
       "    <tr>\n",
       "      <th>5</th>\n",
       "      <td>1001</td>\n",
       "      <td>12</td>\n",
       "      <td>412.0</td>\n",
       "      <td>56.0</td>\n",
       "      <td>44.0</td>\n",
       "      <td>19369.18</td>\n",
       "      <td>19.0</td>\n",
       "      <td>surf</td>\n",
       "      <td>60.00</td>\n",
       "    </tr>\n",
       "  </tbody>\n",
       "</table>\n",
       "</div>"
      ],
      "text/plain": [
       "   user_id  month  total_duration  total_calls  total_messages  total_data_mb  \\\n",
       "1     1001      8           182.0         27.0            30.0        6919.15   \n",
       "2     1001      9           315.0         49.0            44.0       13314.82   \n",
       "3     1001     10           393.0         65.0            53.0       22330.49   \n",
       "4     1001     11           426.0         64.0            36.0       18504.30   \n",
       "5     1001     12           412.0         56.0            44.0       19369.18   \n",
       "\n",
       "   total_data_gb plan_name  monthly_revenue  \n",
       "1            7.0      surf            20.00  \n",
       "2           14.0      surf            20.00  \n",
       "3           22.0      surf            90.09  \n",
       "4           19.0      surf            60.00  \n",
       "5           19.0      surf            60.00  "
      ]
     },
     "execution_count": 36,
     "metadata": {},
     "output_type": "execute_result"
    }
   ],
   "source": [
    "surf_data = df_merged_new.query(\"plan_name == 'surf'\")\n",
    "surf_data.head()"
   ]
  },
  {
   "cell_type": "code",
   "execution_count": 37,
   "metadata": {},
   "outputs": [
    {
     "data": {
      "text/html": [
       "<div>\n",
       "<style scoped>\n",
       "    .dataframe tbody tr th:only-of-type {\n",
       "        vertical-align: middle;\n",
       "    }\n",
       "\n",
       "    .dataframe tbody tr th {\n",
       "        vertical-align: top;\n",
       "    }\n",
       "\n",
       "    .dataframe thead th {\n",
       "        text-align: right;\n",
       "    }\n",
       "</style>\n",
       "<table border=\"1\" class=\"dataframe\">\n",
       "  <thead>\n",
       "    <tr style=\"text-align: right;\">\n",
       "      <th></th>\n",
       "      <th>user_id</th>\n",
       "      <th>month</th>\n",
       "      <th>total_duration</th>\n",
       "      <th>total_calls</th>\n",
       "      <th>total_messages</th>\n",
       "      <th>total_data_mb</th>\n",
       "      <th>total_data_gb</th>\n",
       "      <th>monthly_revenue</th>\n",
       "    </tr>\n",
       "  </thead>\n",
       "  <tbody>\n",
       "    <tr>\n",
       "      <th>count</th>\n",
       "      <td>1573.000000</td>\n",
       "      <td>1573.000000</td>\n",
       "      <td>1573.000000</td>\n",
       "      <td>1573.000000</td>\n",
       "      <td>1573.000000</td>\n",
       "      <td>1573.000000</td>\n",
       "      <td>1573.000000</td>\n",
       "      <td>1573.000000</td>\n",
       "    </tr>\n",
       "    <tr>\n",
       "      <th>mean</th>\n",
       "      <td>1242.755245</td>\n",
       "      <td>9.182454</td>\n",
       "      <td>428.749523</td>\n",
       "      <td>59.811825</td>\n",
       "      <td>31.159568</td>\n",
       "      <td>16558.283490</td>\n",
       "      <td>16.670693</td>\n",
       "      <td>60.706408</td>\n",
       "    </tr>\n",
       "    <tr>\n",
       "      <th>std</th>\n",
       "      <td>139.227939</td>\n",
       "      <td>2.468199</td>\n",
       "      <td>234.453150</td>\n",
       "      <td>32.017989</td>\n",
       "      <td>33.566717</td>\n",
       "      <td>8013.513327</td>\n",
       "      <td>7.847522</td>\n",
       "      <td>55.388042</td>\n",
       "    </tr>\n",
       "    <tr>\n",
       "      <th>min</th>\n",
       "      <td>1001.000000</td>\n",
       "      <td>1.000000</td>\n",
       "      <td>0.000000</td>\n",
       "      <td>0.000000</td>\n",
       "      <td>0.000000</td>\n",
       "      <td>0.000000</td>\n",
       "      <td>0.000000</td>\n",
       "      <td>20.000000</td>\n",
       "    </tr>\n",
       "    <tr>\n",
       "      <th>25%</th>\n",
       "      <td>1120.000000</td>\n",
       "      <td>8.000000</td>\n",
       "      <td>272.000000</td>\n",
       "      <td>39.000000</td>\n",
       "      <td>3.000000</td>\n",
       "      <td>11986.520000</td>\n",
       "      <td>12.000000</td>\n",
       "      <td>20.000000</td>\n",
       "    </tr>\n",
       "    <tr>\n",
       "      <th>50%</th>\n",
       "      <td>1245.000000</td>\n",
       "      <td>10.000000</td>\n",
       "      <td>425.000000</td>\n",
       "      <td>60.000000</td>\n",
       "      <td>24.000000</td>\n",
       "      <td>16829.310000</td>\n",
       "      <td>17.000000</td>\n",
       "      <td>40.360000</td>\n",
       "    </tr>\n",
       "    <tr>\n",
       "      <th>75%</th>\n",
       "      <td>1358.000000</td>\n",
       "      <td>11.000000</td>\n",
       "      <td>576.000000</td>\n",
       "      <td>79.000000</td>\n",
       "      <td>47.000000</td>\n",
       "      <td>20999.610000</td>\n",
       "      <td>21.000000</td>\n",
       "      <td>80.360000</td>\n",
       "    </tr>\n",
       "    <tr>\n",
       "      <th>max</th>\n",
       "      <td>1499.000000</td>\n",
       "      <td>12.000000</td>\n",
       "      <td>1510.000000</td>\n",
       "      <td>205.000000</td>\n",
       "      <td>266.000000</td>\n",
       "      <td>70931.590000</td>\n",
       "      <td>70.000000</td>\n",
       "      <td>590.370000</td>\n",
       "    </tr>\n",
       "  </tbody>\n",
       "</table>\n",
       "</div>"
      ],
      "text/plain": [
       "           user_id        month  total_duration  total_calls  total_messages  \\\n",
       "count  1573.000000  1573.000000     1573.000000  1573.000000     1573.000000   \n",
       "mean   1242.755245     9.182454      428.749523    59.811825       31.159568   \n",
       "std     139.227939     2.468199      234.453150    32.017989       33.566717   \n",
       "min    1001.000000     1.000000        0.000000     0.000000        0.000000   \n",
       "25%    1120.000000     8.000000      272.000000    39.000000        3.000000   \n",
       "50%    1245.000000    10.000000      425.000000    60.000000       24.000000   \n",
       "75%    1358.000000    11.000000      576.000000    79.000000       47.000000   \n",
       "max    1499.000000    12.000000     1510.000000   205.000000      266.000000   \n",
       "\n",
       "       total_data_mb  total_data_gb  monthly_revenue  \n",
       "count    1573.000000    1573.000000      1573.000000  \n",
       "mean    16558.283490      16.670693        60.706408  \n",
       "std      8013.513327       7.847522        55.388042  \n",
       "min         0.000000       0.000000        20.000000  \n",
       "25%     11986.520000      12.000000        20.000000  \n",
       "50%     16829.310000      17.000000        40.360000  \n",
       "75%     20999.610000      21.000000        80.360000  \n",
       "max     70931.590000      70.000000       590.370000  "
      ]
     },
     "execution_count": 37,
     "metadata": {},
     "output_type": "execute_result"
    }
   ],
   "source": [
    "surf_data.describe()"
   ]
  },
  {
   "cell_type": "markdown",
   "metadata": {},
   "source": [
    "As the describe() method has produced the means, and standdard deviations. I will only calculate the variances for the surf plan."
   ]
  },
  {
   "cell_type": "code",
   "execution_count": 38,
   "metadata": {},
   "outputs": [
    {
     "name": "stdout",
     "output_type": "stream",
     "text": [
      "Variances of the Surf plan:\n",
      "Total duration = 54933.33,Total calls = 1024.50,Total messages = 1126.01,Total data = 61.54,Monthly revenue = 3065.88\n"
     ]
    }
   ],
   "source": [
    "print(\"Variances of the Surf plan:\")\n",
    "print(\"Total duration = {:.2f},Total calls = {:.2f},Total messages = {:.2f},Total data = {:.2f},Monthly revenue = \\\n",
    "{:.2f}\".format(np.var(surf_data[\"total_duration\"]),np.var(surf_data[\"total_calls\"]), \\\n",
    "               np.var(surf_data[\"total_messages\"]),np.var(surf_data[\"total_data_gb\"]), \\\n",
    "               np.var(surf_data[\"monthly_revenue\"])))"
   ]
  },
  {
   "cell_type": "markdown",
   "metadata": {},
   "source": [
    "The Megaline customer(s) with the highest call duration, total number of calls, total data used, and highest \n",
    "revenue generation in a month are on the surf plan. The 75th percentile values and or the maximum values from the\n",
    "description of the surt dataframe indicates a good number of clients on the surt plan exceeded their package limits and , hence, generated additional revenues.\n",
    "\n",
    "On Average, a customer on the surf plan spends about 429 minutes on calls in a month with a standard deviation (sd) of about 234.45. The sd indicates the data points of customers on the surf plan are largely away from the mean. On average, a customer on the surf plan texts about 31 messages a month with a standard deviation of about 33.57 messages. A customer on the surf plan uses about 17 gigabytes of data in a month with standard deviation of about 7.8 gigabytes. This implies the data points with regards to usage of data on the surf plan are largely spread out. \n",
    "The average monthly revenue generated by a Surf plan client in a month is about 61 dollars with a sd of about 55 dollars."
   ]
  },
  {
   "cell_type": "markdown",
   "metadata": {},
   "source": [
    "Filtering ultimate plan dataframe"
   ]
  },
  {
   "cell_type": "code",
   "execution_count": 39,
   "metadata": {},
   "outputs": [
    {
     "data": {
      "text/html": [
       "<div>\n",
       "<style scoped>\n",
       "    .dataframe tbody tr th:only-of-type {\n",
       "        vertical-align: middle;\n",
       "    }\n",
       "\n",
       "    .dataframe tbody tr th {\n",
       "        vertical-align: top;\n",
       "    }\n",
       "\n",
       "    .dataframe thead th {\n",
       "        text-align: right;\n",
       "    }\n",
       "</style>\n",
       "<table border=\"1\" class=\"dataframe\">\n",
       "  <thead>\n",
       "    <tr style=\"text-align: right;\">\n",
       "      <th></th>\n",
       "      <th>user_id</th>\n",
       "      <th>month</th>\n",
       "      <th>total_duration</th>\n",
       "      <th>total_calls</th>\n",
       "      <th>total_messages</th>\n",
       "      <th>total_data_mb</th>\n",
       "      <th>total_data_gb</th>\n",
       "      <th>plan_name</th>\n",
       "      <th>monthly_revenue</th>\n",
       "    </tr>\n",
       "  </thead>\n",
       "  <tbody>\n",
       "    <tr>\n",
       "      <th>0</th>\n",
       "      <td>1000</td>\n",
       "      <td>12</td>\n",
       "      <td>124.0</td>\n",
       "      <td>16.0</td>\n",
       "      <td>11.0</td>\n",
       "      <td>1901.47</td>\n",
       "      <td>2.0</td>\n",
       "      <td>ultimate</td>\n",
       "      <td>70.0</td>\n",
       "    </tr>\n",
       "    <tr>\n",
       "      <th>19</th>\n",
       "      <td>1006</td>\n",
       "      <td>11</td>\n",
       "      <td>10.0</td>\n",
       "      <td>2.0</td>\n",
       "      <td>15.0</td>\n",
       "      <td>2068.37</td>\n",
       "      <td>3.0</td>\n",
       "      <td>ultimate</td>\n",
       "      <td>70.0</td>\n",
       "    </tr>\n",
       "    <tr>\n",
       "      <th>20</th>\n",
       "      <td>1006</td>\n",
       "      <td>12</td>\n",
       "      <td>59.0</td>\n",
       "      <td>9.0</td>\n",
       "      <td>139.0</td>\n",
       "      <td>32118.82</td>\n",
       "      <td>32.0</td>\n",
       "      <td>ultimate</td>\n",
       "      <td>84.0</td>\n",
       "    </tr>\n",
       "    <tr>\n",
       "      <th>26</th>\n",
       "      <td>1008</td>\n",
       "      <td>10</td>\n",
       "      <td>476.0</td>\n",
       "      <td>71.0</td>\n",
       "      <td>21.0</td>\n",
       "      <td>17106.99</td>\n",
       "      <td>17.0</td>\n",
       "      <td>ultimate</td>\n",
       "      <td>70.0</td>\n",
       "    </tr>\n",
       "    <tr>\n",
       "      <th>27</th>\n",
       "      <td>1008</td>\n",
       "      <td>11</td>\n",
       "      <td>446.0</td>\n",
       "      <td>63.0</td>\n",
       "      <td>37.0</td>\n",
       "      <td>23676.72</td>\n",
       "      <td>24.0</td>\n",
       "      <td>ultimate</td>\n",
       "      <td>70.0</td>\n",
       "    </tr>\n",
       "  </tbody>\n",
       "</table>\n",
       "</div>"
      ],
      "text/plain": [
       "    user_id  month  total_duration  total_calls  total_messages  \\\n",
       "0      1000     12           124.0         16.0            11.0   \n",
       "19     1006     11            10.0          2.0            15.0   \n",
       "20     1006     12            59.0          9.0           139.0   \n",
       "26     1008     10           476.0         71.0            21.0   \n",
       "27     1008     11           446.0         63.0            37.0   \n",
       "\n",
       "    total_data_mb  total_data_gb plan_name  monthly_revenue  \n",
       "0         1901.47            2.0  ultimate             70.0  \n",
       "19        2068.37            3.0  ultimate             70.0  \n",
       "20       32118.82           32.0  ultimate             84.0  \n",
       "26       17106.99           17.0  ultimate             70.0  \n",
       "27       23676.72           24.0  ultimate             70.0  "
      ]
     },
     "execution_count": 39,
     "metadata": {},
     "output_type": "execute_result"
    }
   ],
   "source": [
    "ultimate_data = df_merged_new.query(\"plan_name == 'ultimate'\")\n",
    "ultimate_data.head()"
   ]
  },
  {
   "cell_type": "code",
   "execution_count": 40,
   "metadata": {},
   "outputs": [
    {
     "data": {
      "text/html": [
       "<div>\n",
       "<style scoped>\n",
       "    .dataframe tbody tr th:only-of-type {\n",
       "        vertical-align: middle;\n",
       "    }\n",
       "\n",
       "    .dataframe tbody tr th {\n",
       "        vertical-align: top;\n",
       "    }\n",
       "\n",
       "    .dataframe thead th {\n",
       "        text-align: right;\n",
       "    }\n",
       "</style>\n",
       "<table border=\"1\" class=\"dataframe\">\n",
       "  <thead>\n",
       "    <tr style=\"text-align: right;\">\n",
       "      <th></th>\n",
       "      <th>user_id</th>\n",
       "      <th>month</th>\n",
       "      <th>total_duration</th>\n",
       "      <th>total_calls</th>\n",
       "      <th>total_messages</th>\n",
       "      <th>total_data_mb</th>\n",
       "      <th>total_data_gb</th>\n",
       "      <th>monthly_revenue</th>\n",
       "    </tr>\n",
       "  </thead>\n",
       "  <tbody>\n",
       "    <tr>\n",
       "      <th>count</th>\n",
       "      <td>720.000000</td>\n",
       "      <td>720.000000</td>\n",
       "      <td>720.000000</td>\n",
       "      <td>720.000000</td>\n",
       "      <td>720.000000</td>\n",
       "      <td>720.000000</td>\n",
       "      <td>720.000000</td>\n",
       "      <td>720.000000</td>\n",
       "    </tr>\n",
       "    <tr>\n",
       "      <th>mean</th>\n",
       "      <td>1253.330556</td>\n",
       "      <td>9.151389</td>\n",
       "      <td>430.450000</td>\n",
       "      <td>60.626389</td>\n",
       "      <td>37.551389</td>\n",
       "      <td>17214.699694</td>\n",
       "      <td>17.306944</td>\n",
       "      <td>72.313889</td>\n",
       "    </tr>\n",
       "    <tr>\n",
       "      <th>std</th>\n",
       "      <td>150.915644</td>\n",
       "      <td>2.558495</td>\n",
       "      <td>240.508762</td>\n",
       "      <td>33.242994</td>\n",
       "      <td>34.767179</td>\n",
       "      <td>7851.897435</td>\n",
       "      <td>7.670108</td>\n",
       "      <td>11.395108</td>\n",
       "    </tr>\n",
       "    <tr>\n",
       "      <th>min</th>\n",
       "      <td>1000.000000</td>\n",
       "      <td>1.000000</td>\n",
       "      <td>0.000000</td>\n",
       "      <td>0.000000</td>\n",
       "      <td>0.000000</td>\n",
       "      <td>0.000000</td>\n",
       "      <td>0.000000</td>\n",
       "      <td>70.000000</td>\n",
       "    </tr>\n",
       "    <tr>\n",
       "      <th>25%</th>\n",
       "      <td>1126.000000</td>\n",
       "      <td>8.000000</td>\n",
       "      <td>260.000000</td>\n",
       "      <td>36.000000</td>\n",
       "      <td>7.000000</td>\n",
       "      <td>12666.955000</td>\n",
       "      <td>13.000000</td>\n",
       "      <td>70.000000</td>\n",
       "    </tr>\n",
       "    <tr>\n",
       "      <th>50%</th>\n",
       "      <td>1241.500000</td>\n",
       "      <td>10.000000</td>\n",
       "      <td>424.000000</td>\n",
       "      <td>61.000000</td>\n",
       "      <td>30.000000</td>\n",
       "      <td>16858.340000</td>\n",
       "      <td>17.000000</td>\n",
       "      <td>70.000000</td>\n",
       "    </tr>\n",
       "    <tr>\n",
       "      <th>75%</th>\n",
       "      <td>1401.000000</td>\n",
       "      <td>11.000000</td>\n",
       "      <td>565.250000</td>\n",
       "      <td>80.000000</td>\n",
       "      <td>61.000000</td>\n",
       "      <td>21014.527500</td>\n",
       "      <td>21.000000</td>\n",
       "      <td>70.000000</td>\n",
       "    </tr>\n",
       "    <tr>\n",
       "      <th>max</th>\n",
       "      <td>1497.000000</td>\n",
       "      <td>12.000000</td>\n",
       "      <td>1369.000000</td>\n",
       "      <td>191.000000</td>\n",
       "      <td>166.000000</td>\n",
       "      <td>46595.330000</td>\n",
       "      <td>46.000000</td>\n",
       "      <td>182.000000</td>\n",
       "    </tr>\n",
       "  </tbody>\n",
       "</table>\n",
       "</div>"
      ],
      "text/plain": [
       "           user_id       month  total_duration  total_calls  total_messages  \\\n",
       "count   720.000000  720.000000      720.000000   720.000000      720.000000   \n",
       "mean   1253.330556    9.151389      430.450000    60.626389       37.551389   \n",
       "std     150.915644    2.558495      240.508762    33.242994       34.767179   \n",
       "min    1000.000000    1.000000        0.000000     0.000000        0.000000   \n",
       "25%    1126.000000    8.000000      260.000000    36.000000        7.000000   \n",
       "50%    1241.500000   10.000000      424.000000    61.000000       30.000000   \n",
       "75%    1401.000000   11.000000      565.250000    80.000000       61.000000   \n",
       "max    1497.000000   12.000000     1369.000000   191.000000      166.000000   \n",
       "\n",
       "       total_data_mb  total_data_gb  monthly_revenue  \n",
       "count     720.000000     720.000000       720.000000  \n",
       "mean    17214.699694      17.306944        72.313889  \n",
       "std      7851.897435       7.670108        11.395108  \n",
       "min         0.000000       0.000000        70.000000  \n",
       "25%     12666.955000      13.000000        70.000000  \n",
       "50%     16858.340000      17.000000        70.000000  \n",
       "75%     21014.527500      21.000000        70.000000  \n",
       "max     46595.330000      46.000000       182.000000  "
      ]
     },
     "execution_count": 40,
     "metadata": {},
     "output_type": "execute_result"
    }
   ],
   "source": [
    "ultimate_data.describe()"
   ]
  },
  {
   "cell_type": "markdown",
   "metadata": {},
   "source": [
    "As the describe() method has produced the means, and standdard deviations. I will only calculate the variances \n",
    "for the ultimate plan."
   ]
  },
  {
   "cell_type": "code",
   "execution_count": 41,
   "metadata": {},
   "outputs": [
    {
     "name": "stdout",
     "output_type": "stream",
     "text": [
      "Variances of the Ultimate plan:\n",
      "Total duration = 57764.13,Total calls = 1103.56,Total messages = 1207.08,Total data = 58.75,Monthly revenue = 129.67\n"
     ]
    }
   ],
   "source": [
    "print(\"Variances of the Ultimate plan:\")\n",
    "print(\"Total duration = {:.2f},Total calls = {:.2f},Total messages = {:.2f},Total data = {:.2f},Monthly revenue = \\\n",
    "{:.2f}\".format(np.var(ultimate_data[\"total_duration\"]),np.var(ultimate_data[\"total_calls\"]), \\\n",
    "               np.var(ultimate_data[\"total_messages\"]),np.var(ultimate_data[\"total_data_gb\"]), \\\n",
    "               np.var(ultimate_data[\"monthly_revenue\"])))"
   ]
  },
  {
   "cell_type": "markdown",
   "metadata": {},
   "source": [
    "Even though  customers on the surf plan account for the highest in text, calls, data, and revenue in a month, \n",
    "on average, in a month, a customer on the ultimate plan texts more, uses more data, and generates comparatively\n",
    "more revenue. Aside the maximum use of data that exceeds the package limit (46 GB), no customer on the \n",
    "ultimate plan exceeded the package limit in minutes and texting for the entire period. This indicates only a few \n",
    "clients on the ultimate plan added additional revenues. \n",
    "\n",
    "Compared to the Surf plan, customers on the ultimate plan have higher standard deviation with regards to minutes of calls, and total messages in a month. However, the standard deviation for monthly revenue for customers on the ultimate plan is very low. This implies data points for monthly revenue for the ultimate plan are very close to the mean. "
   ]
  },
  {
   "cell_type": "markdown",
   "metadata": {},
   "source": [
    "### Ploting histograms"
   ]
  },
  {
   "cell_type": "markdown",
   "metadata": {},
   "source": [
    "Histogram for minutes spent"
   ]
  },
  {
   "cell_type": "code",
   "execution_count": 42,
   "metadata": {},
   "outputs": [
    {
     "data": {
      "image/png": "[encoded data removed]",
      "text/plain": [
       "<Figure size 576x432 with 1 Axes>"
      ]
     },
     "metadata": {
      "needs_background": "light"
     },
     "output_type": "display_data"
    }
   ],
   "source": [
    "ultimate_data[\"total_duration\"].plot(kind=\"hist\",label=\"ultimate\", density=True, figsize=(8,6),alpha=0.6)\n",
    "surf_data[\"total_duration\"].plot(kind=\"hist\",label=\"Surf\", density=True, figsize=(8,6), alpha=0.6)\n",
    "plt.legend()\n",
    "plt.title(\"Density Histogram of Minutes Spent by Megaline Customers\", fontdict={\"size\":12})\n",
    "plt.xlabel(\"Total duration\", fontdict={\"size\":12})\n",
    "plt.ylabel(\"Density\", fontdict={\"size\":12})\n",
    "plt.show()"
   ]
  },
  {
   "cell_type": "markdown",
   "metadata": {},
   "source": [
    "Relatively, the behavior of customers on both the ultimate and surf plan on monthly minutes follow a similar\n",
    "trend. Majority of customers on both the ultimate and surf plan spend below 600 call minutes a month. The surf plan peaks around 400 call minutes while the ultimate plan peaks between 400 and 600 minutes. The distributions are both skewed a bit to the right (even though they look approximately normal). "
   ]
  },
  {
   "cell_type": "markdown",
   "metadata": {},
   "source": [
    "Plotting boxplot for each plan's total duration"
   ]
  },
  {
   "cell_type": "code",
   "execution_count": 43,
   "metadata": {},
   "outputs": [
    {
     "data": {
      "image/png": "[encoded data removed]",
      "text/plain": [
       "<Figure size 576x432 with 1 Axes>"
      ]
     },
     "metadata": {
      "needs_background": "light"
     },
     "output_type": "display_data"
    }
   ],
   "source": [
    "import seaborn as sns\n",
    "fig, ax = plt.subplots()\n",
    "fig.set_size_inches(8,6)\n",
    "sns.boxplot(x=\"plan_name\", y=\"total_duration\", data =df_merged_new, linewidth =2, ax=ax)\n",
    "plt.title(\"Boxplot of Minutes Spent by Megaline Customers\", fontdict={\"size\":12})\n",
    "plt.ylabel(\"Total duration\", fontdict={\"size\":12})\n",
    "plt.xlabel(\"Plan name\", fontdict={\"size\":12})\n",
    "plt.show()"
   ]
  },
  {
   "cell_type": "markdown",
   "metadata": {},
   "source": [
    "Each plan has outliers. There are calls that lasted more than 1000 minutes for both Surf and Ultimate. The Surf plan \n",
    "has a call duration above 1400 minutes.\n",
    "The plans have almost the same (or same) median values.  "
   ]
  },
  {
   "cell_type": "markdown",
   "metadata": {},
   "source": [
    "Histogram for total messages"
   ]
  },
  {
   "cell_type": "code",
   "execution_count": 44,
   "metadata": {},
   "outputs": [
    {
     "data": {
      "image/png": "[encoded data removed]",
      "text/plain": [
       "<Figure size 576x432 with 1 Axes>"
      ]
     },
     "metadata": {
      "needs_background": "light"
     },
     "output_type": "display_data"
    }
   ],
   "source": [
    "ultimate_data[\"total_messages\"].plot(kind=\"hist\",label=\"ultimate\", density=True, figsize=(8,6),alpha=0.6)\n",
    "surf_data[\"total_messages\"].plot(kind=\"hist\",label=\"Surf\", density=True, figsize=(8,6), alpha=0.6)\n",
    "plt.title(\"Density Histogram of Messages Sent by Megaline Customers\", fontdict={\"size\":12})\n",
    "plt.legend()\n",
    "plt.xlabel(\"Total messages\", fontdict={\"size\":12})\n",
    "plt.ylabel(\"Density\", fontdict={\"size\":12})\n",
    "plt.show()"
   ]
  },
  {
   "cell_type": "markdown",
   "metadata": {},
   "source": [
    "Again, in relative terms, customers on the surf plan behave similar to customers on the ultimate plan with regards to text messages. Majority of the customers text less. The distributions are positively skewed. "
   ]
  },
  {
   "cell_type": "markdown",
   "metadata": {},
   "source": [
    "Plotting boxplot for each plan's total messages"
   ]
  },
  {
   "cell_type": "code",
   "execution_count": 45,
   "metadata": {},
   "outputs": [
    {
     "data": {
      "image/png": "[encoded data removed]",
      "text/plain": [
       "<Figure size 576x432 with 1 Axes>"
      ]
     },
     "metadata": {
      "needs_background": "light"
     },
     "output_type": "display_data"
    }
   ],
   "source": [
    "fig, ax = plt.subplots()\n",
    "fig.set_size_inches(8,6)\n",
    "sns.boxplot(x=\"plan_name\", y=\"total_messages\", data =df_merged_new, linewidth =2,ax=ax)\n",
    "plt.title(\"Boxplot of Texts Sent by Megaline Customers\", fontdict={\"size\":12})\n",
    "plt.ylabel(\"Total messages\", fontdict={\"size\":12})\n",
    "plt.xlabel(\"Plan name\", fontdict={\"size\":12})\n",
    "plt.show()"
   ]
  },
  {
   "cell_type": "markdown",
   "metadata": {},
   "source": [
    "The ultimate plan has comparatively few outliers with regards to messages sent. The ouliers are between 140 and 200 \n",
    "messages for the ultimate plan. The surf plan has a lot of outliers from about 110 messages to more than 250 messages. The ultimate plan\n",
    "has a higher interquartile range, i.e. wider middle half values of total messages, and a higher median compared \n",
    "to the surf plan."
   ]
  },
  {
   "cell_type": "markdown",
   "metadata": {},
   "source": [
    "Histogram for data usage"
   ]
  },
  {
   "cell_type": "code",
   "execution_count": 46,
   "metadata": {},
   "outputs": [
    {
     "data": {
      "image/png": "[encoded data removed]",
      "text/plain": [
       "<Figure size 576x432 with 1 Axes>"
      ]
     },
     "metadata": {
      "needs_background": "light"
     },
     "output_type": "display_data"
    }
   ],
   "source": [
    "ultimate_data[\"total_data_gb\"].plot(kind=\"hist\",label=\"ultimate\", density=True, figsize=(8,6),alpha=0.6)\n",
    "surf_data[\"total_data_gb\"].plot(kind=\"hist\",label=\"Surf\", density=True, figsize=(8,6), alpha=0.6)\n",
    "plt.title(\"Density Histogram of Data Usage by Megaline Customers\", fontdict={\"size\":12})\n",
    "plt.legend()\n",
    "plt.xlabel(\"Volume of data (Gigabytes)\", fontdict={\"size\":12})\n",
    "plt.ylabel(\"Density\", fontdict={\"size\":12})\n",
    "plt.show()"
   ]
  },
  {
   "cell_type": "markdown",
   "metadata": {},
   "source": [
    "Like the other packages, considering data usage, customers on the surt plan behaves similar relative to customers \n",
    "on the ultimate plan. The peak of data usage are both around 20 gigabytes. The distributions are both approximately normal."
   ]
  },
  {
   "cell_type": "markdown",
   "metadata": {},
   "source": [
    "Plotting boxplot for each plan's data usage"
   ]
  },
  {
   "cell_type": "code",
   "execution_count": 47,
   "metadata": {},
   "outputs": [
    {
     "data": {
      "image/png": "[encoded data removed]",
      "text/plain": [
       "<Figure size 576x432 with 1 Axes>"
      ]
     },
     "metadata": {
      "needs_background": "light"
     },
     "output_type": "display_data"
    }
   ],
   "source": [
    "fig, ax = plt.subplots()\n",
    "fig.set_size_inches(8,6)\n",
    "sns.boxplot(x=\"plan_name\", y=\"total_data_gb\", data =df_merged_new, linewidth =2, ax=ax)\n",
    "plt.title(\"Boxplot of Data Usage by Megaline Customers\", fontdict={\"size\":12})\n",
    "plt.ylabel(\"Total data usage\", fontdict={\"size\":12})\n",
    "plt.xlabel(\"Plan name\", fontdict={\"size\":12})\n",
    "plt.show()"
   ]
  },
  {
   "cell_type": "markdown",
   "metadata": {},
   "source": [
    "The Surf plan has more outliers than the ultimate plan. The outliers for the ultimate plan falls between about 35 \n",
    "and 50 gigabytes of data. The outliers for the Surf plan ranges from about 35 to more than 70 gigabytes of data. Both plans have a similar median."
   ]
  },
  {
   "cell_type": "markdown",
   "metadata": {},
   "source": [
    "### Interim Conclusion\n",
    "- A good number of customers on the surf plan exceeds their package limits, thus, most surt plan clients generate\n",
    "additional revenues. However, only few customers patronizing the ultimate data plan exceed their package limits, \n",
    "hence, only few ultimate customers generate additional revenues. \n",
    "- Relatively, surf plan customers behave like ultimate plan customers. This results in surf plan customers exceeding their package limits.\n",
    "\n",
    "- In total, surf plan customers generate more revenue than ulimate plan clients. However, on average, in a month,a customer on the ultimate plan generates more revenue than a customer on the surf plan. "
   ]
  },
  {
   "cell_type": "markdown",
   "metadata": {},
   "source": [
    "## Step 4: Testing the hypotheses"
   ]
  },
  {
   "cell_type": "markdown",
   "metadata": {},
   "source": [
    "### Hypothesis  test 1\n",
    "`Claim: The average revenue from users of Ultimate and Surf calling plans differs`"
   ]
  },
  {
   "cell_type": "markdown",
   "metadata": {},
   "source": [
    "Previewing revenue distributions"
   ]
  },
  {
   "cell_type": "code",
   "execution_count": 48,
   "metadata": {},
   "outputs": [
    {
     "data": {
      "image/png": "[encoded data removed]",
      "text/plain": [
       "<Figure size 576x432 with 1 Axes>"
      ]
     },
     "metadata": {
      "needs_background": "light"
     },
     "output_type": "display_data"
    }
   ],
   "source": [
    "ultimate_data[\"monthly_revenue\"].plot(kind=\"hist\",label=\"Ultimate\", density=True, figsize=(8,6),alpha=0.6)\n",
    "surf_data[\"monthly_revenue\"].plot(kind=\"hist\",label=\"Surf\", density=True, figsize=(8,6), alpha=0.6)\n",
    "plt.title(\"Density Histogram of Revenue Generated by Megaline Customers\", fontdict={\"size\":12})\n",
    "plt.legend()\n",
    "plt.xlabel(\"Monthly revenue\", fontdict={\"size\":12})\n",
    "plt.ylabel(\"Density\", fontdict={\"size\":12})\n",
    "plt.show()"
   ]
  },
  {
   "cell_type": "markdown",
   "metadata": {},
   "source": [
    "The histogram indicates that are outliers in the revenue distribution in the upper limits. \n",
    "Hence, the need to remove remove them.\n",
    "\n",
    "Filtering upper limit outliers from surf and ulitmate dataframes"
   ]
  },
  {
   "cell_type": "code",
   "execution_count": 49,
   "metadata": {},
   "outputs": [
    {
     "data": {
      "text/html": [
       "<div>\n",
       "<style scoped>\n",
       "    .dataframe tbody tr th:only-of-type {\n",
       "        vertical-align: middle;\n",
       "    }\n",
       "\n",
       "    .dataframe tbody tr th {\n",
       "        vertical-align: top;\n",
       "    }\n",
       "\n",
       "    .dataframe thead th {\n",
       "        text-align: right;\n",
       "    }\n",
       "</style>\n",
       "<table border=\"1\" class=\"dataframe\">\n",
       "  <thead>\n",
       "    <tr style=\"text-align: right;\">\n",
       "      <th></th>\n",
       "      <th>user_id</th>\n",
       "      <th>month</th>\n",
       "      <th>total_duration</th>\n",
       "      <th>total_calls</th>\n",
       "      <th>total_messages</th>\n",
       "      <th>total_data_mb</th>\n",
       "      <th>total_data_gb</th>\n",
       "      <th>plan_name</th>\n",
       "      <th>monthly_revenue</th>\n",
       "    </tr>\n",
       "  </thead>\n",
       "  <tbody>\n",
       "    <tr>\n",
       "      <th>1</th>\n",
       "      <td>1001</td>\n",
       "      <td>8</td>\n",
       "      <td>182.0</td>\n",
       "      <td>27.0</td>\n",
       "      <td>30.0</td>\n",
       "      <td>6919.15</td>\n",
       "      <td>7.0</td>\n",
       "      <td>surf</td>\n",
       "      <td>20.00</td>\n",
       "    </tr>\n",
       "    <tr>\n",
       "      <th>2</th>\n",
       "      <td>1001</td>\n",
       "      <td>9</td>\n",
       "      <td>315.0</td>\n",
       "      <td>49.0</td>\n",
       "      <td>44.0</td>\n",
       "      <td>13314.82</td>\n",
       "      <td>14.0</td>\n",
       "      <td>surf</td>\n",
       "      <td>20.00</td>\n",
       "    </tr>\n",
       "    <tr>\n",
       "      <th>3</th>\n",
       "      <td>1001</td>\n",
       "      <td>10</td>\n",
       "      <td>393.0</td>\n",
       "      <td>65.0</td>\n",
       "      <td>53.0</td>\n",
       "      <td>22330.49</td>\n",
       "      <td>22.0</td>\n",
       "      <td>surf</td>\n",
       "      <td>90.09</td>\n",
       "    </tr>\n",
       "    <tr>\n",
       "      <th>4</th>\n",
       "      <td>1001</td>\n",
       "      <td>11</td>\n",
       "      <td>426.0</td>\n",
       "      <td>64.0</td>\n",
       "      <td>36.0</td>\n",
       "      <td>18504.30</td>\n",
       "      <td>19.0</td>\n",
       "      <td>surf</td>\n",
       "      <td>60.00</td>\n",
       "    </tr>\n",
       "    <tr>\n",
       "      <th>5</th>\n",
       "      <td>1001</td>\n",
       "      <td>12</td>\n",
       "      <td>412.0</td>\n",
       "      <td>56.0</td>\n",
       "      <td>44.0</td>\n",
       "      <td>19369.18</td>\n",
       "      <td>19.0</td>\n",
       "      <td>surf</td>\n",
       "      <td>60.00</td>\n",
       "    </tr>\n",
       "  </tbody>\n",
       "</table>\n",
       "</div>"
      ],
      "text/plain": [
       "   user_id  month  total_duration  total_calls  total_messages  total_data_mb  \\\n",
       "1     1001      8           182.0         27.0            30.0        6919.15   \n",
       "2     1001      9           315.0         49.0            44.0       13314.82   \n",
       "3     1001     10           393.0         65.0            53.0       22330.49   \n",
       "4     1001     11           426.0         64.0            36.0       18504.30   \n",
       "5     1001     12           412.0         56.0            44.0       19369.18   \n",
       "\n",
       "   total_data_gb plan_name  monthly_revenue  \n",
       "1            7.0      surf            20.00  \n",
       "2           14.0      surf            20.00  \n",
       "3           22.0      surf            90.09  \n",
       "4           19.0      surf            60.00  \n",
       "5           19.0      surf            60.00  "
      ]
     },
     "execution_count": 49,
     "metadata": {},
     "output_type": "execute_result"
    }
   ],
   "source": [
    "Q1 = surf_data[\"monthly_revenue\"].quantile(0.25)\n",
    "Q3 = surf_data[\"monthly_revenue\"].quantile(0.75)\n",
    "IQR = Q3 - Q1\n",
    "\n",
    "filter_surf = surf_data[surf_data[\"monthly_revenue\"] < (Q3 + 1.5 * IQR)]\n",
    "filter_surf.head()"
   ]
  },
  {
   "cell_type": "code",
   "execution_count": 50,
   "metadata": {},
   "outputs": [
    {
     "data": {
      "text/html": [
       "<div>\n",
       "<style scoped>\n",
       "    .dataframe tbody tr th:only-of-type {\n",
       "        vertical-align: middle;\n",
       "    }\n",
       "\n",
       "    .dataframe tbody tr th {\n",
       "        vertical-align: top;\n",
       "    }\n",
       "\n",
       "    .dataframe thead th {\n",
       "        text-align: right;\n",
       "    }\n",
       "</style>\n",
       "<table border=\"1\" class=\"dataframe\">\n",
       "  <thead>\n",
       "    <tr style=\"text-align: right;\">\n",
       "      <th></th>\n",
       "      <th>user_id</th>\n",
       "      <th>month</th>\n",
       "      <th>total_duration</th>\n",
       "      <th>total_calls</th>\n",
       "      <th>total_messages</th>\n",
       "      <th>total_data_mb</th>\n",
       "      <th>total_data_gb</th>\n",
       "      <th>plan_name</th>\n",
       "      <th>monthly_revenue</th>\n",
       "    </tr>\n",
       "  </thead>\n",
       "  <tbody>\n",
       "    <tr>\n",
       "      <th>0</th>\n",
       "      <td>1000</td>\n",
       "      <td>12</td>\n",
       "      <td>124.0</td>\n",
       "      <td>16.0</td>\n",
       "      <td>11.0</td>\n",
       "      <td>1901.47</td>\n",
       "      <td>2.0</td>\n",
       "      <td>ultimate</td>\n",
       "      <td>70.0</td>\n",
       "    </tr>\n",
       "    <tr>\n",
       "      <th>19</th>\n",
       "      <td>1006</td>\n",
       "      <td>11</td>\n",
       "      <td>10.0</td>\n",
       "      <td>2.0</td>\n",
       "      <td>15.0</td>\n",
       "      <td>2068.37</td>\n",
       "      <td>3.0</td>\n",
       "      <td>ultimate</td>\n",
       "      <td>70.0</td>\n",
       "    </tr>\n",
       "    <tr>\n",
       "      <th>20</th>\n",
       "      <td>1006</td>\n",
       "      <td>12</td>\n",
       "      <td>59.0</td>\n",
       "      <td>9.0</td>\n",
       "      <td>139.0</td>\n",
       "      <td>32118.82</td>\n",
       "      <td>32.0</td>\n",
       "      <td>ultimate</td>\n",
       "      <td>84.0</td>\n",
       "    </tr>\n",
       "    <tr>\n",
       "      <th>26</th>\n",
       "      <td>1008</td>\n",
       "      <td>10</td>\n",
       "      <td>476.0</td>\n",
       "      <td>71.0</td>\n",
       "      <td>21.0</td>\n",
       "      <td>17106.99</td>\n",
       "      <td>17.0</td>\n",
       "      <td>ultimate</td>\n",
       "      <td>70.0</td>\n",
       "    </tr>\n",
       "    <tr>\n",
       "      <th>27</th>\n",
       "      <td>1008</td>\n",
       "      <td>11</td>\n",
       "      <td>446.0</td>\n",
       "      <td>63.0</td>\n",
       "      <td>37.0</td>\n",
       "      <td>23676.72</td>\n",
       "      <td>24.0</td>\n",
       "      <td>ultimate</td>\n",
       "      <td>70.0</td>\n",
       "    </tr>\n",
       "  </tbody>\n",
       "</table>\n",
       "</div>"
      ],
      "text/plain": [
       "    user_id  month  total_duration  total_calls  total_messages  \\\n",
       "0      1000     12           124.0         16.0            11.0   \n",
       "19     1006     11            10.0          2.0            15.0   \n",
       "20     1006     12            59.0          9.0           139.0   \n",
       "26     1008     10           476.0         71.0            21.0   \n",
       "27     1008     11           446.0         63.0            37.0   \n",
       "\n",
       "    total_data_mb  total_data_gb plan_name  monthly_revenue  \n",
       "0         1901.47            2.0  ultimate             70.0  \n",
       "19        2068.37            3.0  ultimate             70.0  \n",
       "20       32118.82           32.0  ultimate             84.0  \n",
       "26       17106.99           17.0  ultimate             70.0  \n",
       "27       23676.72           24.0  ultimate             70.0  "
      ]
     },
     "execution_count": 50,
     "metadata": {},
     "output_type": "execute_result"
    }
   ],
   "source": [
    "q1 = surf_data[\"monthly_revenue\"].quantile(0.25)\n",
    "q3 = surf_data[\"monthly_revenue\"].quantile(0.75)\n",
    "iqr = q3 - q1\n",
    "\n",
    "filter_ultimate = ultimate_data[ultimate_data[\"monthly_revenue\"] < (q3 + 1.5 * iqr)]\n",
    "filter_ultimate.head()"
   ]
  },
  {
   "cell_type": "markdown",
   "metadata": {},
   "source": [
    "Replotting Hisgram with filtered data"
   ]
  },
  {
   "cell_type": "code",
   "execution_count": 51,
   "metadata": {},
   "outputs": [
    {
     "data": {
      "image/png": "[encoded data removed]",
      "text/plain": [
       "<Figure size 576x432 with 1 Axes>"
      ]
     },
     "metadata": {
      "needs_background": "light"
     },
     "output_type": "display_data"
    }
   ],
   "source": [
    "filter_ultimate[\"monthly_revenue\"].plot(kind=\"hist\",label=\"ultimate\", density=True, figsize=(8,6),alpha=0.6)\n",
    "filter_surf[\"monthly_revenue\"].plot(kind=\"hist\",label=\"Surf\", density=True, figsize=(8,6), alpha=0.6)\n",
    "plt.title(\"Density Histogram of Revenue Generated by Megaline Customers\", fontdict={\"size\":12})\n",
    "plt.legend()\n",
    "plt.xlabel(\"Monthly revenue\", fontdict={\"size\":12})\n",
    "plt.ylabel(\"Density\", fontdict={\"size\":12})\n",
    "plt.show()"
   ]
  },
  {
   "cell_type": "markdown",
   "metadata": {},
   "source": [
    "The above density histograms show clearly that majority of the surf customers exceed their package limits \n",
    "as their revenue stream is more spread out (above the 20.00 dollars limit). However, majority of revenue from \n",
    "the ultimate plan customers fall between 70.00 and 80.00 dollars (just around the 70.00 dollars limit).\n"
   ]
  },
  {
   "cell_type": "markdown",
   "metadata": {},
   "source": [
    "The revenue streams are not normally distributed and the samples are unpaired. Therefore, one would \n",
    "argue that a Mann-Whitney U test should be used to test if the sample distributions are the same. But the \n",
    "project question demands a test of means, hence I would use t-test to test the hypotheses."
   ]
  },
  {
   "cell_type": "markdown",
   "metadata": {},
   "source": [
    "Hypotheses:\n",
    "\n",
    "H0: The average revenue from users of Ultimate and Surf calling plans are the same (null hypothesis).\n",
    "\n",
    "H1: The average revenue from users of Ultimate and Surf calling plans differs (alternative hypothesis)."
   ]
  },
  {
   "cell_type": "code",
   "execution_count": 52,
   "metadata": {},
   "outputs": [
    {
     "name": "stdout",
     "output_type": "stream",
     "text": [
      "Average revenue:\n",
      "Ultimate =  72.0\n",
      "Surf = 52.0\n",
      "\n",
      "p-value: 0.0000\n",
      "We reject the null hypothesis\n"
     ]
    }
   ],
   "source": [
    "from scipy import stats as st\n",
    "\n",
    "print(\"Average revenue:\")\n",
    "print(\"Ultimate = \",round(np.mean(filter_ultimate[\"monthly_revenue\"]),0))\n",
    "print(\"Surf =\",round(np.mean(filter_surf[\"monthly_revenue\"]),0))\n",
    "print()\n",
    "\n",
    "\n",
    "alpha = .05 # critical statistical significance level\n",
    "results = st.ttest_ind(filter_surf[\"monthly_revenue\"], filter_ultimate[\"monthly_revenue\"],equal_var=False)\n",
    "\n",
    "print('p-value: {:.4f}'.format(results.pvalue))\n",
    "\n",
    "\n",
    "if (results.pvalue < alpha):\n",
    "        print(\"We reject the null hypothesis\")\n",
    "else:\n",
    "        print(\"We can't reject the null hypothesis\")"
   ]
  },
  {
   "cell_type": "markdown",
   "metadata": {},
   "source": [
    "The test provides evidence to support the claim that the average revenue from users of Ultimate and Surf calling plans differs "
   ]
  },
  {
   "cell_type": "markdown",
   "metadata": {},
   "source": [
    "### Hypothesis  test 2\n",
    "H0: The average revenue from users in NY-NJ area is not different from that of the users from other regions.\n",
    "\n",
    "H1: The average revenue from users in NY-NJ area is different from that of the users from other regions."
   ]
  },
  {
   "cell_type": "markdown",
   "metadata": {},
   "source": [
    "Initially, I will Merge the \"city\" column in the user dataframe with the merged dataframe. \n",
    "I would proceed to filter the \"revenue from users in NY-NJ area\" and revenue from users of other regions.\n",
    "I would then test the hypothesis with these samples."
   ]
  },
  {
   "cell_type": "code",
   "execution_count": 53,
   "metadata": {},
   "outputs": [
    {
     "name": "stdout",
     "output_type": "stream",
     "text": [
      "Variance:\n",
      "NY-NJ Area =  1087.0\n",
      "Other Area = 908.0\n",
      "\n",
      "Mean:\n",
      "NY-NJ Area =  54.0\n",
      "Other Area = 58.0\n",
      "\n",
      "p-value: 0.0473\n",
      "We reject the null hypothesis\n"
     ]
    }
   ],
   "source": [
    "city_area = df_users[[\"user_id\",\"city\"]]\n",
    "cities_data = df_merged_new.merge(city_area, on=\"user_id\")\n",
    "\n",
    "g1 = cities_data[\"monthly_revenue\"].quantile(0.25)\n",
    "g3 = cities_data[\"monthly_revenue\"].quantile(0.75)\n",
    "igr = g3 - g1\n",
    "\n",
    "filter_cities_data = cities_data[cities_data[\"monthly_revenue\"] < (q3 + 1.5 * igr)]\n",
    "\n",
    "ny_nj_area = filter_cities_data.query('city== \"New York-Newark-Jersey City, NY-NJ-PA MSA\"')\n",
    "not_ny_nj_area = filter_cities_data.query('city != \"New York-Newark-Jersey City, NY-NJ-PA MSA\"')\n",
    "\n",
    "\n",
    "print(\"Variance:\")\n",
    "print(\"NY-NJ Area = \",round(np.var(ny_nj_area[\"monthly_revenue\"]),0))\n",
    "print(\"Other Area =\",round(np.var(not_ny_nj_area[\"monthly_revenue\"]),0))\n",
    "print()\n",
    "\n",
    "print(\"Mean:\")\n",
    "print(\"NY-NJ Area = \",round(np.mean(ny_nj_area[\"monthly_revenue\"]),0))\n",
    "print(\"Other Area =\",round(np.mean(not_ny_nj_area[\"monthly_revenue\"]),0))\n",
    "print()\n",
    "      \n",
    "\n",
    "alpha = .05 # critical statistical significance level\n",
    "\n",
    "result = st.ttest_ind(ny_nj_area[\"monthly_revenue\"], not_ny_nj_area[\"monthly_revenue\"],equal_var=False)\n",
    "\n",
    "print('p-value: {:.4f}'.format(result.pvalue))\n",
    "\n",
    "if (result.pvalue < alpha):\n",
    "        print(\"We reject the null hypothesis\")\n",
    "else:\n",
    "        print(\"We can't reject the null hypothesis\")"
   ]
  },
  {
   "cell_type": "markdown",
   "metadata": {},
   "source": [
    "At 5% significance level, the test provides evidence to support the claim that the average revenue from users in NY-NJ area is different from that of the users from other regions. However, at 1% level, there are no significant differences."
   ]
  },
  {
   "cell_type": "markdown",
   "metadata": {},
   "source": [
    "## Step 5: Overall conclusion"
   ]
  },
  {
   "cell_type": "markdown",
   "metadata": {},
   "source": [
    "- Aside January and February 2018, the Surf plan always generated higher monthly revenues than the ultimate plan.\n",
    "\n",
    "- The monthly revenues for both surf and ultimate plans increased monotonically in 2018.\n",
    "\n",
    "- A good number of customers on the surf plan exceed their package limits, thus, most surt plan clients generate\n",
    "additional revenues. However, only few customers patronizing the ultimate data plan exceed their package limits, \n",
    "hence, only few ultimate customers generate additional revenues. \n",
    "\n",
    "- Relatively, surf plan customers behaves like ultimate plan customers. This results in surf plan customers \n",
    "exceeding their package limits.\n",
    "\n",
    "- In total, surf plan customers generate more annual revenue than ulimate plan clients (about 95,491.18 dollars generated from surf plan clients while the ultimate plan clients generated about 52,066.00 dollars). However, on average, in a month, a customer on the ultimate plan generates more revenue than a customer on the surf plan.\n",
    "\n",
    "- The average revenue from users of Ultimate and Surf calling plans differs.\n",
    "\n",
    "- The average revenue from users in NY-NJ area is different from that of the users from other regions.\n",
    "\n",
    "- My recommendation to the commercial department of Megaline is to adjust their advertising budget to favour the surf plan.\n"
   ]
  },
  {
   "cell_type": "code",
   "execution_count": null,
   "metadata": {},
   "outputs": [],
   "source": []
  }
 ],
 "metadata": {
  "kernelspec": {
   "display_name": "Python 3",
   "language": "python",
   "name": "python3"
  },
  "language_info": {
   "codemirror_mode": {
    "name": "ipython",
    "version": 3
   },
   "file_extension": ".py",
   "mimetype": "text/x-python",
   "name": "python",
   "nbconvert_exporter": "python",
   "pygments_lexer": "ipython3",
   "version": "3.7.6"
  },
  "toc": {
   "base_numbering": "1.",
   "nav_menu": {},
   "number_sections": false,
   "sideBar": true,
   "skip_h1_title": true,
   "title_cell": "Table of Contents",
   "title_sidebar": "Contents",
   "toc_cell": true,
   "toc_position": {
    "height": "calc(100% - 180px)",
    "left": "10px",
    "top": "150px",
    "width": "273.188px"
   },
   "toc_section_display": true,
   "toc_window_display": true
  }
 },
 "nbformat": 4,
 "nbformat_minor": 4
}
